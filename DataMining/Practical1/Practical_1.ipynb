{
  "nbformat": 4,
  "nbformat_minor": 0,
  "metadata": {
    "colab": {
      "name": "Practical_1.ipynb",
      "provenance": [],
      "collapsed_sections": []
    },
    "kernelspec": {
      "name": "python3",
      "display_name": "Python 3"
    }
  },
  "cells": [
    {
      "cell_type": "code",
      "metadata": {
        "colab": {
          "base_uri": "https://localhost:8080/"
        },
        "id": "xVrMReYII_X6",
        "outputId": "e830f318-6b5f-4fb4-a905-f5a19008956b"
      },
      "source": [
        "import pandas as pd\r\n",
        "from google.colab import drive\r\n",
        "drive.mount('/content/gdrive')"
      ],
      "execution_count": null,
      "outputs": [
        {
          "output_type": "stream",
          "text": [
            "Mounted at /content/gdrive\n"
          ],
          "name": "stdout"
        }
      ]
    },
    {
      "cell_type": "markdown",
      "metadata": {
        "id": "Ep6g_SFVNFU-"
      },
      "source": [
        "Q1.Create a file “Person.txt”:\r\n"
      ]
    },
    {
      "cell_type": "markdown",
      "metadata": {
        "id": "4AE_qDyfNM69"
      },
      "source": [
        "i) Read the data from the file “Person.txt”."
      ]
    },
    {
      "cell_type": "code",
      "metadata": {
        "colab": {
          "base_uri": "https://localhost:8080/"
        },
        "id": "6VXGagOBNT74",
        "outputId": "b908af4f-d8bd-4ae7-f00b-a2a7638fb1e4"
      },
      "source": [
        "data=pd.read_table(\"/content/gdrive/MyDrive/Person.txt\",delim_whitespace=True)\r\n",
        "print(data)"
      ],
      "execution_count": 11,
      "outputs": [
        {
          "output_type": "stream",
          "text": [
            "   Age agegroup  height   status  yearsmarried\n",
            "0   21    adult     6.0   single            -1\n",
            "1    2    child     3.0  married             0\n",
            "2   18    adult     5.7  married            20\n",
            "3  221  elderly     5.0  widowed             2\n",
            "4   34    child    -7.0  married             3\n"
          ],
          "name": "stdout"
        }
      ]
    },
    {
      "cell_type": "markdown",
      "metadata": {
        "id": "S3M4ND45NUlE"
      },
      "source": [
        "ii) Create a rule set E that contain rules to check for the following conditions :"
      ]
    },
    {
      "cell_type": "markdown",
      "metadata": {
        "id": "mFaqc-cBNYH7"
      },
      "source": [
        "\r\n",
        "1. The age should be in the range 0-150"
      ]
    },
    {
      "cell_type": "code",
      "metadata": {
        "id": "Ot_AwWcHNYzW"
      },
      "source": [
        "def check_age_range(data):\r\n",
        " age_range = lambda r: r in range(151)\r\n",
        " return data['Age'].apply(age_range).rename('Check Age Range')"
      ],
      "execution_count": 41,
      "outputs": []
    },
    {
      "cell_type": "markdown",
      "metadata": {
        "id": "SubN4CLFNqDg"
      },
      "source": [
        "2. The age should be greater than years married."
      ]
    },
    {
      "cell_type": "code",
      "metadata": {
        "id": "IluB4P8vNrAz"
      },
      "source": [
        "def check_age(data):\r\n",
        " age_limit = lambda r: r[0] > r[4]\r\n",
        " return data.apply(age_limit,axis=1).rename(\"Check Age\")"
      ],
      "execution_count": 42,
      "outputs": []
    },
    {
      "cell_type": "markdown",
      "metadata": {
        "id": "PXCxmjM-NyjG"
      },
      "source": [
        "3. The status should be married or single or widowed.\r\n"
      ]
    },
    {
      "cell_type": "code",
      "metadata": {
        "id": "meldTZZrN0V6"
      },
      "source": [
        "def check_status(data):\r\n",
        " status_value= lambda r: r in data[\"status\"].values\r\n",
        " return data['status'].apply(status_value).rename(\"Check status\")"
      ],
      "execution_count": 43,
      "outputs": []
    },
    {
      "cell_type": "markdown",
      "metadata": {
        "id": "-R5oN-qwN2SK"
      },
      "source": [
        "4. If age is less than 18 the age group should be child, if age is between 18 and 65 the age group\r\n",
        "should be adult, if age is more than 65 the age group should be elderly"
      ]
    },
    {
      "cell_type": "code",
      "metadata": {
        "id": "1e3GMQsVN59k"
      },
      "source": [
        "def check_age_group(data):\r\n",
        "  age_group = lambda x: (x[0] in range(18) and x[1]==\"child\") or (x[0] in range(18,66) and x[1]=='adult') or (x[0] > 65 and x[1]==\"elderly\")\r\n",
        "  return data[['Age', 'agegroup']].apply(age_group, axis =1).rename(\"Check age group\")"
      ],
      "execution_count": 44,
      "outputs": []
    },
    {
      "cell_type": "markdown",
      "metadata": {
        "id": "99hEL9ezN6IY"
      },
      "source": [
        "iii) Check whether rule set E is violated by the data in the file people.txt"
      ]
    },
    {
      "cell_type": "code",
      "metadata": {
        "id": "pK-h6G3rN81c",
        "colab": {
          "base_uri": "https://localhost:8080/"
        },
        "outputId": "e737c395-1c92-4a99-93a3-4871266447f0"
      },
      "source": [
        "E={\"check_age_range\":check_age_range, \"check_age\":check_age, \"check_status\":check_status, \"check_age_group\":check_age_group}\r\n",
        "result=list()\r\n",
        "\r\n",
        "for i in E.keys():\r\n",
        " result.append(E[i](data))\r\n",
        "print(\"Number of violations by Person.txt:\")\r\n",
        "print(len(result)-sum(result))\r\n"
      ],
      "execution_count": 45,
      "outputs": [
        {
          "output_type": "stream",
          "text": [
            "Number of violations by Person.txt:\n",
            "0    0\n",
            "1    0\n",
            "2    1\n",
            "3    1\n",
            "4    1\n",
            "dtype: int64\n"
          ],
          "name": "stdout"
        }
      ]
    },
    {
      "cell_type": "markdown",
      "metadata": {
        "id": "aXjC0ujqN-sP"
      },
      "source": [
        "iv) Summarize the results obtained in part(iii)"
      ]
    },
    {
      "cell_type": "code",
      "metadata": {
        "id": "e4oSv1kNOAat",
        "colab": {
          "base_uri": "https://localhost:8080/"
        },
        "outputId": "20ef9128-087d-411c-edfc-ac28e7c00be4"
      },
      "source": [
        "result=pd.DataFrame(result)\r\n",
        "print(result)\r\n",
        "print(result.describe())"
      ],
      "execution_count": 46,
      "outputs": [
        {
          "output_type": "stream",
          "text": [
            "                    0     1      2      3      4\n",
            "Check Age Range  True  True   True  False   True\n",
            "Check Age        True  True  False   True   True\n",
            "Check status     True  True   True   True   True\n",
            "Check age group  True  True   True   True  False\n",
            "           0     1     2     3     4\n",
            "count      4     4     4     4     4\n",
            "unique     1     1     2     2     2\n",
            "top     True  True  True  True  True\n",
            "freq       4     4     3     3     3\n"
          ],
          "name": "stdout"
        }
      ]
    },
    {
      "cell_type": "markdown",
      "metadata": {
        "id": "D0idGXY1ODiO"
      },
      "source": [
        "v) Visualize the results obtained in part(iii)"
      ]
    },
    {
      "cell_type": "code",
      "metadata": {
        "id": "hCJ9npo5OD3u",
        "colab": {
          "base_uri": "https://localhost:8080/",
          "height": 390
        },
        "outputId": "a53cee48-d822-4fba-9da2-53516d4595de"
      },
      "source": [
        "import matplotlib.pyplot as plt\r\n",
        "result.astype(int).plot(kind='bar')\r\n",
        "plt.title(\"Visualization\")\r\n",
        "plt.xlabel('Rules')\r\n",
        "plt.ylabel('True/False')\r\n",
        "plt.legend(['Person1','Person2','Person3','Person4','Person5'])"
      ],
      "execution_count": 47,
      "outputs": [
        {
          "output_type": "execute_result",
          "data": {
            "text/plain": [
              "<matplotlib.legend.Legend at 0x7f6bd0643650>"
            ]
          },
          "metadata": {
            "tags": []
          },
          "execution_count": 47
        },
        {
          "output_type": "display_data",
          "data": {
            "image/png": "[encoded data removed]",
            "text/plain": [
              "<Figure size 432x288 with 1 Axes>"
            ]
          },
          "metadata": {
            "tags": [],
            "needs_background": "light"
          }
        }
      ]
    }
  ]
}
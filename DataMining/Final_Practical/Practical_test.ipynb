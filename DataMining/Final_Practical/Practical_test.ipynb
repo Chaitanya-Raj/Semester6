{
  "nbformat": 4,
  "nbformat_minor": 0,
  "metadata": {
    "colab": {
      "name": "Practical_test.ipynb",
      "provenance": []
    },
    "kernelspec": {
      "name": "python3",
      "display_name": "Python 3"
    },
    "language_info": {
      "name": "python"
    }
  },
  "cells": [
    {
      "cell_type": "markdown",
      "metadata": {
        "id": "EoijTFbzsJXg"
      },
      "source": [
        "a) Libraries you will need to access the dataset"
      ]
    },
    {
      "cell_type": "code",
      "metadata": {
        "colab": {
          "base_uri": "https://localhost:8080/"
        },
        "id": "B1Jw4pqwmkLa",
        "outputId": "2796cbbf-5394-4262-e39c-84ed17fa1046"
      },
      "source": [
        "import numpy as np  #importing numpy for numpy_array\n",
        "import pandas as pd  #Importing Pandas for reading CSV files\n",
        "import matplotlib.pyplot as plt  #importing matplotlib for plotting graphs \n",
        "import seaborn as sns  #importing seaborn for plotting heatmap\n",
        "from sklearn.model_selection import train_test_split  #importing sklearn for regression method\n",
        "from sklearn import preprocessing\n",
        "!pip install mlxtend --upgrade --no-deps\n",
        "from sklearn.metrics import accuracy_score, confusion_matrix\n",
        "from mlxtend.plotting import plot_confusion_matrix\n",
        "from sklearn.metrics import classification_report\n",
        "from sklearn.model_selection import cross_val_score\n",
        "from sklearn.naive_bayes import GaussianNB\n",
        "from sklearn.neighbors import KNeighborsClassifier\n",
        "%matplotlib inline"
      ],
      "execution_count": 33,
      "outputs": [
        {
          "output_type": "stream",
          "text": [
            "Requirement already up-to-date: mlxtend in /usr/local/lib/python3.7/dist-packages (0.18.0)\n"
          ],
          "name": "stdout"
        }
      ]
    },
    {
      "cell_type": "code",
      "metadata": {
        "colab": {
          "base_uri": "https://localhost:8080/"
        },
        "id": "sEvW9ConrXDl",
        "outputId": "b9c1834b-8ceb-417d-c02f-d09af7f79585"
      },
      "source": [
        "from google.colab import drive\n",
        "drive.mount('/content/gdrive') \n",
        "df = pd.read_csv('/content/gdrive/MyDrive/Dataset1.csv')"
      ],
      "execution_count": 2,
      "outputs": [
        {
          "output_type": "stream",
          "text": [
            "Mounted at /content/gdrive\n"
          ],
          "name": "stdout"
        }
      ]
    },
    {
      "cell_type": "markdown",
      "metadata": {
        "id": "Uyoia1c6sd-N"
      },
      "source": [
        "b)Summary of the dataset"
      ]
    },
    {
      "cell_type": "code",
      "metadata": {
        "colab": {
          "base_uri": "https://localhost:8080/",
          "height": 195
        },
        "id": "jUjcQp4asEqR",
        "outputId": "6b2acc82-bc11-4ee2-db67-7d3a982bebb1"
      },
      "source": [
        "df.head()"
      ],
      "execution_count": 4,
      "outputs": [
        {
          "output_type": "execute_result",
          "data": {
            "text/html": [
              "<div>\n",
              "<style scoped>\n",
              "    .dataframe tbody tr th:only-of-type {\n",
              "        vertical-align: middle;\n",
              "    }\n",
              "\n",
              "    .dataframe tbody tr th {\n",
              "        vertical-align: top;\n",
              "    }\n",
              "\n",
              "    .dataframe thead th {\n",
              "        text-align: right;\n",
              "    }\n",
              "</style>\n",
              "<table border=\"1\" class=\"dataframe\">\n",
              "  <thead>\n",
              "    <tr style=\"text-align: right;\">\n",
              "      <th></th>\n",
              "      <th>mcg</th>\n",
              "      <th>gvh</th>\n",
              "      <th>almScore</th>\n",
              "      <th>mitScore</th>\n",
              "      <th>PresenceOfHDEL</th>\n",
              "      <th>pox</th>\n",
              "      <th>vacScore</th>\n",
              "      <th>nucScore</th>\n",
              "      <th>Protien Localization</th>\n",
              "    </tr>\n",
              "  </thead>\n",
              "  <tbody>\n",
              "    <tr>\n",
              "      <th>0</th>\n",
              "      <td>0.58</td>\n",
              "      <td>0.61</td>\n",
              "      <td>4.7</td>\n",
              "      <td>1.3</td>\n",
              "      <td>No</td>\n",
              "      <td>0.0</td>\n",
              "      <td>4.8</td>\n",
              "      <td>2.2</td>\n",
              "      <td>Mitochondrial</td>\n",
              "    </tr>\n",
              "    <tr>\n",
              "      <th>1</th>\n",
              "      <td>0.43</td>\n",
              "      <td>0.67</td>\n",
              "      <td>4.8</td>\n",
              "      <td>2.7</td>\n",
              "      <td>No</td>\n",
              "      <td>0.0</td>\n",
              "      <td>5.3</td>\n",
              "      <td>2.2</td>\n",
              "      <td>Mitochondrial</td>\n",
              "    </tr>\n",
              "    <tr>\n",
              "      <th>2</th>\n",
              "      <td>0.64</td>\n",
              "      <td>0.62</td>\n",
              "      <td>4.9</td>\n",
              "      <td>1.5</td>\n",
              "      <td>No</td>\n",
              "      <td>0.0</td>\n",
              "      <td>5.3</td>\n",
              "      <td>2.2</td>\n",
              "      <td>Mitochondrial</td>\n",
              "    </tr>\n",
              "    <tr>\n",
              "      <th>3</th>\n",
              "      <td>0.58</td>\n",
              "      <td>0.44</td>\n",
              "      <td>5.7</td>\n",
              "      <td>1.3</td>\n",
              "      <td>No</td>\n",
              "      <td>0.0</td>\n",
              "      <td>5.4</td>\n",
              "      <td>2.2</td>\n",
              "      <td>Nuclear</td>\n",
              "    </tr>\n",
              "    <tr>\n",
              "      <th>4</th>\n",
              "      <td>0.42</td>\n",
              "      <td>0.44</td>\n",
              "      <td>4.8</td>\n",
              "      <td>5.4</td>\n",
              "      <td>No</td>\n",
              "      <td>0.0</td>\n",
              "      <td>4.8</td>\n",
              "      <td>2.2</td>\n",
              "      <td>Mitochondrial</td>\n",
              "    </tr>\n",
              "  </tbody>\n",
              "</table>\n",
              "</div>"
            ],
            "text/plain": [
              "    mcg   gvh  almScore  mitScore  ...  pox  vacScore  nucScore  Protien Localization\n",
              "0  0.58  0.61       4.7       1.3  ...  0.0       4.8       2.2         Mitochondrial\n",
              "1  0.43  0.67       4.8       2.7  ...  0.0       5.3       2.2         Mitochondrial\n",
              "2  0.64  0.62       4.9       1.5  ...  0.0       5.3       2.2         Mitochondrial\n",
              "3  0.58  0.44       5.7       1.3  ...  0.0       5.4       2.2               Nuclear\n",
              "4  0.42  0.44       4.8       5.4  ...  0.0       4.8       2.2         Mitochondrial\n",
              "\n",
              "[5 rows x 9 columns]"
            ]
          },
          "metadata": {
            "tags": []
          },
          "execution_count": 4
        }
      ]
    },
    {
      "cell_type": "code",
      "metadata": {
        "colab": {
          "base_uri": "https://localhost:8080/"
        },
        "id": "3qHqFBtbtA0e",
        "outputId": "b48272be-2ff0-4ff1-e9a3-adc5465a7320"
      },
      "source": [
        "print(df.keys())"
      ],
      "execution_count": 5,
      "outputs": [
        {
          "output_type": "stream",
          "text": [
            "Index(['mcg', 'gvh', 'almScore', 'mitScore', 'PresenceOfHDEL', 'pox',\n",
            "       'vacScore', 'nucScore', 'Protien Localization'],\n",
            "      dtype='object')\n"
          ],
          "name": "stdout"
        }
      ]
    },
    {
      "cell_type": "code",
      "metadata": {
        "colab": {
          "base_uri": "https://localhost:8080/"
        },
        "id": "XWeKfOtLtDo0",
        "outputId": "f8137e92-752a-4477-a70a-297d1452bd37"
      },
      "source": [
        "print(df.describe())"
      ],
      "execution_count": 6,
      "outputs": [
        {
          "output_type": "stream",
          "text": [
            "               mcg          gvh  ...     vacScore     nucScore\n",
            "count  1299.000000  1299.000000  ...  1299.000000  1299.000000\n",
            "mean      0.472771     0.479569  ...     4.994226     2.803695\n",
            "std       0.109463     0.105939  ...     0.570761     1.109756\n",
            "min       0.110000     0.130000  ...     0.000000     0.000000\n",
            "25%       0.400000     0.410000  ...     4.800000     2.200000\n",
            "50%       0.470000     0.480000  ...     5.100000     2.200000\n",
            "75%       0.550000     0.550000  ...     5.300000     3.100000\n",
            "max       0.900000     1.000000  ...     7.300000    10.000000\n",
            "\n",
            "[8 rows x 7 columns]\n"
          ],
          "name": "stdout"
        }
      ]
    },
    {
      "cell_type": "code",
      "metadata": {
        "colab": {
          "base_uri": "https://localhost:8080/"
        },
        "id": "59RXOUB9tOCu",
        "outputId": "1e00fea2-cc6c-4814-be29-af5719313ea4"
      },
      "source": [
        "print(df.dtypes)"
      ],
      "execution_count": 7,
      "outputs": [
        {
          "output_type": "stream",
          "text": [
            "mcg                     float64\n",
            "gvh                     float64\n",
            "almScore                float64\n",
            "mitScore                float64\n",
            "PresenceOfHDEL           object\n",
            "pox                     float64\n",
            "vacScore                float64\n",
            "nucScore                float64\n",
            "Protien Localization     object\n",
            "dtype: object\n"
          ],
          "name": "stdout"
        }
      ]
    },
    {
      "cell_type": "markdown",
      "metadata": {
        "id": "8FOfnqsstulu"
      },
      "source": [
        "Data distribution"
      ]
    },
    {
      "cell_type": "code",
      "metadata": {
        "colab": {
          "base_uri": "https://localhost:8080/",
          "height": 650
        },
        "id": "Ul-zsp1GtOgg",
        "outputId": "4242eb99-18d3-4bbc-c92f-fbd2cb695953"
      },
      "source": [
        "plt.figure(figsize = [30, 21]) \n",
        "for i in range(1,df.shape[1]):\n",
        " column=df.columns[i]\n",
        " plt.subplot(3,4, i)\n",
        " plt.hist(df[column])"
      ],
      "execution_count": 8,
      "outputs": [
        {
          "output_type": "display_data",
          "data": {
            "image/png": "[encoded data removed]",
            "text/plain": [
              "<Figure size 2160x1512 with 8 Axes>"
            ]
          },
          "metadata": {
            "tags": [],
            "needs_background": "light"
          }
        }
      ]
    },
    {
      "cell_type": "markdown",
      "metadata": {
        "id": "yIYficvUuGog"
      },
      "source": [
        "Class Distribution"
      ]
    },
    {
      "cell_type": "code",
      "metadata": {
        "colab": {
          "base_uri": "https://localhost:8080/",
          "height": 575
        },
        "id": "VCV7ApfZuF3I",
        "outputId": "dec555fa-f90d-40f2-e8ed-da6556ab0adf"
      },
      "source": [
        "protein_localization = df['Protien Localization'].value_counts().plot(kind='pie', figsize=(10, 10))"
      ],
      "execution_count": 11,
      "outputs": [
        {
          "output_type": "display_data",
          "data": {
            "image/png": "[encoded data removed]",
            "text/plain": [
              "<Figure size 720x720 with 1 Axes>"
            ]
          },
          "metadata": {
            "tags": []
          }
        }
      ]
    },
    {
      "cell_type": "markdown",
      "metadata": {
        "id": "ZzWa_PYQu05C"
      },
      "source": [
        "Categorical Attribute: Protien Localization\n",
        "\n",
        "Continuous Atrribute: mcg,gvh,almScore,mitScore,vacScore,nuScore\n",
        "\n"
      ]
    },
    {
      "cell_type": "markdown",
      "metadata": {
        "id": "fmzbhuwqvXUz"
      },
      "source": [
        "Perform required preprocessing."
      ]
    },
    {
      "cell_type": "code",
      "metadata": {
        "id": "1WgHEX0au0h8"
      },
      "source": [
        "new_df=df.drop(['PresenceOfHDEL','Protien Localization'],axis = 1)"
      ],
      "execution_count": 15,
      "outputs": []
    },
    {
      "cell_type": "code",
      "metadata": {
        "colab": {
          "base_uri": "https://localhost:8080/"
        },
        "id": "jyfnuRInwA6c",
        "outputId": "ebff5adc-0f87-4623-e37e-5afd84b93053"
      },
      "source": [
        "print('countable attributes')\n",
        "print(new_df.shape[1])"
      ],
      "execution_count": 16,
      "outputs": [
        {
          "output_type": "stream",
          "text": [
            "countable attributes\n",
            "7\n"
          ],
          "name": "stdout"
        }
      ]
    },
    {
      "cell_type": "code",
      "metadata": {
        "colab": {
          "base_uri": "https://localhost:8080/"
        },
        "id": "V6ijTgNbwGxn",
        "outputId": "74d6ba90-9e0a-4a01-e652-45b96383323f"
      },
      "source": [
        "Mean_result=list()\n",
        "for i in range(0,new_df.shape[1]):\n",
        " column=new_df.columns[i]\n",
        " Mean_result.append(new_df[column].mean())\n",
        "print(Mean_result)\n"
      ],
      "execution_count": 19,
      "outputs": [
        {
          "output_type": "stream",
          "text": [
            "[0.4727713625866048, 0.4795688991531939, 5.085450346420332, 2.5911470361816806, 0.0020477290223248653, 4.994226327944569, 2.80369515011544]\n"
          ],
          "name": "stdout"
        }
      ]
    },
    {
      "cell_type": "code",
      "metadata": {
        "colab": {
          "base_uri": "https://localhost:8080/"
        },
        "id": "Zf838oHJwQDW",
        "outputId": "bbd47df4-3369-412f-8923-f343a2abe4c2"
      },
      "source": [
        "SD_result=list()\n",
        "for i in range(0,new_df.shape[1]):\n",
        " column=new_df.columns[i]\n",
        " SD_result.append(new_df[column].std())\n",
        "print(SD_result)"
      ],
      "execution_count": 18,
      "outputs": [
        {
          "output_type": "stream",
          "text": [
            "[0.10946298068637601, 0.10593904177792143, 0.8369155212982629, 1.3987194757127426, 0.037980136735418925, 0.5707607832486336, 1.109755821807907]\n"
          ],
          "name": "stdout"
        }
      ]
    },
    {
      "cell_type": "code",
      "metadata": {
        "colab": {
          "base_uri": "https://localhost:8080/",
          "height": 402
        },
        "id": "7LCU7IJJwXt7",
        "outputId": "f9898aae-628d-4ab2-a7d7-146c7ceea093"
      },
      "source": [
        "sdf=new_df\n",
        "for i in range(0,7):\n",
        " column=new_df.columns[i]\n",
        " sdf[column]=preprocessing.scale(new_df[column])\n",
        "sdf"
      ],
      "execution_count": 21,
      "outputs": [
        {
          "output_type": "execute_result",
          "data": {
            "text/html": [
              "<div>\n",
              "<style scoped>\n",
              "    .dataframe tbody tr th:only-of-type {\n",
              "        vertical-align: middle;\n",
              "    }\n",
              "\n",
              "    .dataframe tbody tr th {\n",
              "        vertical-align: top;\n",
              "    }\n",
              "\n",
              "    .dataframe thead th {\n",
              "        text-align: right;\n",
              "    }\n",
              "</style>\n",
              "<table border=\"1\" class=\"dataframe\">\n",
              "  <thead>\n",
              "    <tr style=\"text-align: right;\">\n",
              "      <th></th>\n",
              "      <th>mcg</th>\n",
              "      <th>gvh</th>\n",
              "      <th>almScore</th>\n",
              "      <th>mitScore</th>\n",
              "      <th>pox</th>\n",
              "      <th>vacScore</th>\n",
              "      <th>nucScore</th>\n",
              "    </tr>\n",
              "  </thead>\n",
              "  <tbody>\n",
              "    <tr>\n",
              "      <th>0</th>\n",
              "      <td>0.979965</td>\n",
              "      <td>1.231664</td>\n",
              "      <td>-0.460738</td>\n",
              "      <td>-0.923448</td>\n",
              "      <td>-0.053937</td>\n",
              "      <td>-0.340425</td>\n",
              "      <td>-0.544199</td>\n",
              "    </tr>\n",
              "    <tr>\n",
              "      <th>1</th>\n",
              "      <td>-0.390889</td>\n",
              "      <td>1.798246</td>\n",
              "      <td>-0.341206</td>\n",
              "      <td>0.077853</td>\n",
              "      <td>-0.053937</td>\n",
              "      <td>0.535936</td>\n",
              "      <td>-0.544199</td>\n",
              "    </tr>\n",
              "    <tr>\n",
              "      <th>2</th>\n",
              "      <td>1.528307</td>\n",
              "      <td>1.326095</td>\n",
              "      <td>-0.221673</td>\n",
              "      <td>-0.780405</td>\n",
              "      <td>-0.053937</td>\n",
              "      <td>0.535936</td>\n",
              "      <td>-0.544199</td>\n",
              "    </tr>\n",
              "    <tr>\n",
              "      <th>3</th>\n",
              "      <td>0.979965</td>\n",
              "      <td>-0.373650</td>\n",
              "      <td>0.734586</td>\n",
              "      <td>-0.923448</td>\n",
              "      <td>-0.053937</td>\n",
              "      <td>0.711209</td>\n",
              "      <td>-0.544199</td>\n",
              "    </tr>\n",
              "    <tr>\n",
              "      <th>4</th>\n",
              "      <td>-0.482279</td>\n",
              "      <td>-0.373650</td>\n",
              "      <td>-0.341206</td>\n",
              "      <td>2.008934</td>\n",
              "      <td>-0.053937</td>\n",
              "      <td>-0.340425</td>\n",
              "      <td>-0.544199</td>\n",
              "    </tr>\n",
              "    <tr>\n",
              "      <th>...</th>\n",
              "      <td>...</td>\n",
              "      <td>...</td>\n",
              "      <td>...</td>\n",
              "      <td>...</td>\n",
              "      <td>...</td>\n",
              "      <td>...</td>\n",
              "      <td>...</td>\n",
              "    </tr>\n",
              "    <tr>\n",
              "      <th>1294</th>\n",
              "      <td>-0.847840</td>\n",
              "      <td>-1.506813</td>\n",
              "      <td>1.571313</td>\n",
              "      <td>1.079154</td>\n",
              "      <td>-0.053937</td>\n",
              "      <td>-1.041514</td>\n",
              "      <td>-1.535789</td>\n",
              "    </tr>\n",
              "    <tr>\n",
              "      <th>1295</th>\n",
              "      <td>-0.847840</td>\n",
              "      <td>-0.751371</td>\n",
              "      <td>1.810377</td>\n",
              "      <td>0.650025</td>\n",
              "      <td>-0.053937</td>\n",
              "      <td>-1.216786</td>\n",
              "      <td>-1.535789</td>\n",
              "    </tr>\n",
              "    <tr>\n",
              "      <th>1296</th>\n",
              "      <td>-0.025328</td>\n",
              "      <td>-0.468080</td>\n",
              "      <td>1.212715</td>\n",
              "      <td>1.007633</td>\n",
              "      <td>-0.053937</td>\n",
              "      <td>-0.340425</td>\n",
              "      <td>1.709417</td>\n",
              "    </tr>\n",
              "    <tr>\n",
              "      <th>1297</th>\n",
              "      <td>-0.390889</td>\n",
              "      <td>-0.751371</td>\n",
              "      <td>1.093183</td>\n",
              "      <td>-0.708883</td>\n",
              "      <td>-0.053937</td>\n",
              "      <td>0.535936</td>\n",
              "      <td>0.988260</td>\n",
              "    </tr>\n",
              "    <tr>\n",
              "      <th>1298</th>\n",
              "      <td>1.619697</td>\n",
              "      <td>0.570652</td>\n",
              "      <td>0.375989</td>\n",
              "      <td>-0.923448</td>\n",
              "      <td>-0.053937</td>\n",
              "      <td>0.535936</td>\n",
              "      <td>-0.544199</td>\n",
              "    </tr>\n",
              "  </tbody>\n",
              "</table>\n",
              "<p>1299 rows × 7 columns</p>\n",
              "</div>"
            ],
            "text/plain": [
              "           mcg       gvh  almScore  mitScore       pox  vacScore  nucScore\n",
              "0     0.979965  1.231664 -0.460738 -0.923448 -0.053937 -0.340425 -0.544199\n",
              "1    -0.390889  1.798246 -0.341206  0.077853 -0.053937  0.535936 -0.544199\n",
              "2     1.528307  1.326095 -0.221673 -0.780405 -0.053937  0.535936 -0.544199\n",
              "3     0.979965 -0.373650  0.734586 -0.923448 -0.053937  0.711209 -0.544199\n",
              "4    -0.482279 -0.373650 -0.341206  2.008934 -0.053937 -0.340425 -0.544199\n",
              "...        ...       ...       ...       ...       ...       ...       ...\n",
              "1294 -0.847840 -1.506813  1.571313  1.079154 -0.053937 -1.041514 -1.535789\n",
              "1295 -0.847840 -0.751371  1.810377  0.650025 -0.053937 -1.216786 -1.535789\n",
              "1296 -0.025328 -0.468080  1.212715  1.007633 -0.053937 -0.340425  1.709417\n",
              "1297 -0.390889 -0.751371  1.093183 -0.708883 -0.053937  0.535936  0.988260\n",
              "1298  1.619697  0.570652  0.375989 -0.923448 -0.053937  0.535936 -0.544199\n",
              "\n",
              "[1299 rows x 7 columns]"
            ]
          },
          "metadata": {
            "tags": []
          },
          "execution_count": 21
        }
      ]
    },
    {
      "cell_type": "code",
      "metadata": {
        "colab": {
          "base_uri": "https://localhost:8080/"
        },
        "id": "Uo1q-rSPwj5f",
        "outputId": "8fed8bb8-92da-433b-81e2-4a74877182d7"
      },
      "source": [
        "SMean_result=list()\n",
        "for i in range(0,7):\n",
        " column=sdf.columns[i]\n",
        " SMean_result.append(round(sdf[column].mean()))\n",
        "print(SMean_result)"
      ],
      "execution_count": 22,
      "outputs": [
        {
          "output_type": "stream",
          "text": [
            "[0, 0, 0, 0, 0, 0, 0]\n"
          ],
          "name": "stdout"
        }
      ]
    },
    {
      "cell_type": "code",
      "metadata": {
        "colab": {
          "base_uri": "https://localhost:8080/"
        },
        "id": "-Tvcyq3lwmV8",
        "outputId": "0119b017-e1c2-442c-c17b-48c27edcb78a"
      },
      "source": [
        "SSD_result=list()\n",
        "for i in range(0,7):\n",
        " column=sdf.columns[i]\n",
        " SSD_result.append(round(sdf[column].std()))\n",
        "print(SSD_result)"
      ],
      "execution_count": 23,
      "outputs": [
        {
          "output_type": "stream",
          "text": [
            "[1, 1, 1, 1, 1, 1, 1]\n"
          ],
          "name": "stdout"
        }
      ]
    },
    {
      "cell_type": "code",
      "metadata": {
        "colab": {
          "base_uri": "https://localhost:8080/",
          "height": 652
        },
        "id": "9m9Y2WLWw4p9",
        "outputId": "ccce7fcb-d809-4f2c-ab1d-eb23d84adc81"
      },
      "source": [
        "plt.figure(figsize = [30, 21]) \n",
        "for i in range(1,sdf.shape[1]):\n",
        " column=sdf.columns[i]\n",
        " plt.subplot(3,4, i)\n",
        " plt.hist(sdf[column])"
      ],
      "execution_count": 24,
      "outputs": [
        {
          "output_type": "display_data",
          "data": {
            "image/png": "[encoded data removed]",
            "text/plain": [
              "<Figure size 2160x1512 with 6 Axes>"
            ]
          },
          "metadata": {
            "tags": [],
            "needs_background": "light"
          }
        }
      ]
    },
    {
      "cell_type": "markdown",
      "metadata": {
        "id": "SW9nXRv7xNq4"
      },
      "source": [
        "Split the data for training and testing purpose"
      ]
    },
    {
      "cell_type": "code",
      "metadata": {
        "id": "farnMM7TxNJT"
      },
      "source": [
        "X=sdf.values[:,:-1]\n",
        "Y=df['Protien Localization']"
      ],
      "execution_count": 26,
      "outputs": []
    },
    {
      "cell_type": "code",
      "metadata": {
        "colab": {
          "base_uri": "https://localhost:8080/"
        },
        "id": "jKhGoTvYxy0A",
        "outputId": "0f1e5884-509d-43ce-cc9c-d09e22ccc970"
      },
      "source": [
        "print(X.shape)\n",
        "print(Y.shape)"
      ],
      "execution_count": 48,
      "outputs": [
        {
          "output_type": "stream",
          "text": [
            "(1299, 6)\n",
            "(1299,)\n"
          ],
          "name": "stdout"
        }
      ]
    },
    {
      "cell_type": "code",
      "metadata": {
        "colab": {
          "base_uri": "https://localhost:8080/"
        },
        "id": "Srdci6Cbx1cy",
        "outputId": "8fc46d2d-9ef3-4913-dabe-4dc36de204d7"
      },
      "source": [
        "classLabels=np.unique(Y)\n",
        "classLabels"
      ],
      "execution_count": 28,
      "outputs": [
        {
          "output_type": "execute_result",
          "data": {
            "text/plain": [
              "array(['Cytoskeletal', 'ME3', 'Mitochondrial', 'Nuclear'], dtype=object)"
            ]
          },
          "metadata": {
            "tags": []
          },
          "execution_count": 28
        }
      ]
    },
    {
      "cell_type": "code",
      "metadata": {
        "id": "rGrhlBfwyBJk"
      },
      "source": [
        "# college roll no. 18/94062 end in even no. then 20:80  testing=20%  training=80%\n",
        "test_val = 0.20\n",
        "X_train, X_test, Y_train, Y_test = train_test_split(X,Y,test_size=test_val)"
      ],
      "execution_count": 42,
      "outputs": []
    },
    {
      "cell_type": "code",
      "metadata": {
        "colab": {
          "base_uri": "https://localhost:8080/"
        },
        "id": "t-9jV0qLyCEe",
        "outputId": "db35792e-1f42-44f1-e5e4-25f284b8d54f"
      },
      "source": [
        "print(X_train.shape)\n",
        "print(X_test.shape)\n",
        "print(Y_train.shape)\n",
        "print(Y_test.shape)"
      ],
      "execution_count": 43,
      "outputs": [
        {
          "output_type": "stream",
          "text": [
            "(1039, 6)\n",
            "(260, 6)\n",
            "(1039,)\n",
            "(260,)\n"
          ],
          "name": "stdout"
        }
      ]
    },
    {
      "cell_type": "markdown",
      "metadata": {
        "id": "XLG6nH_hzUyx"
      },
      "source": [
        "KNN Classification"
      ]
    },
    {
      "cell_type": "code",
      "metadata": {
        "colab": {
          "base_uri": "https://localhost:8080/"
        },
        "id": "5lNw8MyTynZ_",
        "outputId": "db61d9ce-5472-4a56-f0d3-675cf6dab9f4"
      },
      "source": [
        "# 9+4+0+6+2=21 hence k=3\n",
        "acc =list()\n",
        "clf = KNeighborsClassifier(n_neighbors=3)\n",
        "clf=clf.fit(X_train,Y_train)\n",
        "Y_pred=clf.predict(X_test)\n",
        "a1=accuracy_score(Y_test,Y_pred)\n",
        "print(\"Accuracy in KNN base classifier:\")\n",
        "print(a1)\n",
        "acc.append(a1)\n",
        "print(\"confusion matrix is:\")\n",
        "confuss_mat=confusion_matrix(Y_test,Y_pred)\n",
        "print(confuss_mat)\n",
        "print(\"classification report:\")\n",
        "clf_report=classification_report(Y_test, Y_pred, target_names=classLabels,output_dict=True)\n",
        "print(clf_report)"
      ],
      "execution_count": 51,
      "outputs": [
        {
          "output_type": "stream",
          "text": [
            "Accuracy in KNN base classifier:\n",
            "0.55\n",
            "confusion matrix is:\n",
            "[[56  1 12 28]\n",
            " [ 2 20  1  1]\n",
            " [16  2 21  7]\n",
            " [32  3 12 46]]\n",
            "classification report:\n",
            "{'Cytoskeletal': {'precision': 0.5283018867924528, 'recall': 0.5773195876288659, 'f1-score': 0.5517241379310345, 'support': 97}, 'ME3': {'precision': 0.7692307692307693, 'recall': 0.8333333333333334, 'f1-score': 0.8, 'support': 24}, 'Mitochondrial': {'precision': 0.45652173913043476, 'recall': 0.45652173913043476, 'f1-score': 0.45652173913043476, 'support': 46}, 'Nuclear': {'precision': 0.5609756097560976, 'recall': 0.4946236559139785, 'f1-score': 0.5257142857142858, 'support': 93}, 'accuracy': 0.55, 'macro avg': {'precision': 0.5787575012274386, 'recall': 0.5904495790016531, 'f1-score': 0.5834900406939387, 'support': 260}, 'weighted avg': {'precision': 0.5495290507220133, 'recall': 0.55, 'f1-score': 0.5484948844259189, 'support': 260}}\n"
          ],
          "name": "stdout"
        }
      ]
    },
    {
      "cell_type": "markdown",
      "metadata": {
        "id": "5gG7hgEV1d92"
      },
      "source": [
        "Apply Naive Bayes"
      ]
    },
    {
      "cell_type": "code",
      "metadata": {
        "id": "66Hrnrys7e2x"
      },
      "source": [
        "import warnings\n",
        "warnings.filterwarnings('always')  "
      ],
      "execution_count": 53,
      "outputs": []
    },
    {
      "cell_type": "code",
      "metadata": {
        "colab": {
          "base_uri": "https://localhost:8080/"
        },
        "id": "ylss63e31yc-",
        "outputId": "e6f56b04-5b6b-4136-8511-13bea535aab3"
      },
      "source": [
        "clf = GaussianNB()\n",
        "clf=clf.fit(X_train,Y_train)\n",
        "Y_pred=clf.predict(X_test)\n",
        "a2=accuracy_score(Y_test,Y_pred)\n",
        "print(\"Accuracy in naive bayes base classifier:\")\n",
        "print(a2)\n",
        "acc.append(a2)\n",
        "print(\"confusion matrix is:\")\n",
        "confuss_mat=confusion_matrix(Y_test,Y_pred)\n",
        "print(confuss_mat)\n",
        "print(\"classification report:\")\n",
        "clf_report=classification_report(Y_test, Y_pred, target_names=classLabels,output_dict=True)\n",
        "print(clf_report)"
      ],
      "execution_count": 52,
      "outputs": [
        {
          "output_type": "stream",
          "text": [
            "Accuracy in naive bayes base classifier:\n",
            "0.4230769230769231\n",
            "confusion matrix is:\n",
            "[[ 0  3  1 93]\n",
            " [ 0 20  0  4]\n",
            " [ 0  2  2 42]\n",
            " [ 0  4  1 88]]\n",
            "classification report:\n",
            "{'Cytoskeletal': {'precision': 0.0, 'recall': 0.0, 'f1-score': 0.0, 'support': 97}, 'ME3': {'precision': 0.6896551724137931, 'recall': 0.8333333333333334, 'f1-score': 0.7547169811320755, 'support': 24}, 'Mitochondrial': {'precision': 0.5, 'recall': 0.043478260869565216, 'f1-score': 0.08, 'support': 46}, 'Nuclear': {'precision': 0.3876651982378855, 'recall': 0.946236559139785, 'f1-score': 0.55, 'support': 93}, 'accuracy': 0.4230769230769231, 'macro avg': {'precision': 0.39433009266291963, 'recall': 0.45576203833567086, 'f1-score': 0.3461792452830189, 'support': 260}, 'weighted avg': {'precision': 0.2907868752848246, 'recall': 0.4230769230769231, 'f1-score': 0.28055079825834545, 'support': 260}}\n"
          ],
          "name": "stdout"
        },
        {
          "output_type": "stream",
          "text": [
            "/usr/local/lib/python3.7/dist-packages/sklearn/metrics/_classification.py:1272: UndefinedMetricWarning: Precision and F-score are ill-defined and being set to 0.0 in labels with no predicted samples. Use `zero_division` parameter to control this behavior.\n",
            "  _warn_prf(average, modifier, msg_start, len(result))\n"
          ],
          "name": "stderr"
        }
      ]
    },
    {
      "cell_type": "markdown",
      "metadata": {
        "id": "vaf3dSx72sG9"
      },
      "source": [
        "Comparing accuracies"
      ]
    },
    {
      "cell_type": "code",
      "metadata": {
        "colab": {
          "base_uri": "https://localhost:8080/"
        },
        "id": "XUi55ESe2pJY",
        "outputId": "d6a23e7a-7a0e-412b-ea26-3dbe20c4037a"
      },
      "source": [
        "acc"
      ],
      "execution_count": 46,
      "outputs": [
        {
          "output_type": "execute_result",
          "data": {
            "text/plain": [
              "[0.55, 0.4230769230769231]"
            ]
          },
          "metadata": {
            "tags": []
          },
          "execution_count": 46
        }
      ]
    },
    {
      "cell_type": "code",
      "metadata": {
        "colab": {
          "base_uri": "https://localhost:8080/",
          "height": 265
        },
        "id": "MAQxNSgV2qt-",
        "outputId": "340f1a83-49bb-424e-d5d4-9f489e066a69"
      },
      "source": [
        "l = ['KNN', 'NB']\n",
        "barlist=plt.bar(l,acc)\n",
        "barlist[0].set_color('b')\n",
        "barlist[1].set_color('g')\n",
        "plt.show()"
      ],
      "execution_count": 47,
      "outputs": [
        {
          "output_type": "display_data",
          "data": {
            "image/png": "[encoded data removed]",
            "text/plain": [
              "<Figure size 432x288 with 1 Axes>"
            ]
          },
          "metadata": {
            "tags": [],
            "needs_background": "light"
          }
        }
      ]
    }
  ]
}
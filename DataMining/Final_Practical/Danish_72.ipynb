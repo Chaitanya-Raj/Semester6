{
  "nbformat": 4,
  "nbformat_minor": 0,
  "metadata": {
    "colab": {
      "name": "Danish_72.ipynb",
      "provenance": [],
      "collapsed_sections": []
    },
    "kernelspec": {
      "name": "python3",
      "display_name": "Python 3"
    },
    "language_info": {
      "name": "python"
    }
  },
  "cells": [
    {
      "cell_type": "markdown",
      "metadata": {
        "id": "EoijTFbzsJXg"
      },
      "source": [
        "a) Libraries you will need to access the dataset"
      ]
    },
    {
      "cell_type": "code",
      "metadata": {
        "id": "B1Jw4pqwmkLa"
      },
      "source": [
        "import numpy as np  #importing numpy for numpy_array\n",
        "import pandas as pd  #Importing Pandas for reading CSV files\n",
        "import matplotlib.pyplot as plt  #importing matplotlib for plotting graphs \n",
        "import seaborn as sns  #importing seaborn for plotting heatmap\n",
        "from sklearn.model_selection import train_test_split  #importing sklearn for regression method\n",
        "from sklearn import preprocessing\n",
        "!pip install mlxtend --upgrade --no-deps\n",
        "from sklearn.metrics import accuracy_score, confusion_matrix\n",
        "from mlxtend.plotting import plot_confusion_matrix\n",
        "from sklearn.metrics import classification_report\n",
        "from sklearn.model_selection import cross_val_score\n",
        "from sklearn.naive_bayes import GaussianNB\n",
        "from sklearn.neighbors import KNeighborsClassifier\n",
        "%matplotlib inline"
      ],
      "execution_count": null,
      "outputs": []
    },
    {
      "cell_type": "code",
      "metadata": {
        "id": "sEvW9ConrXDl"
      },
      "source": [
        "from google.colab import drive\n",
        "drive.mount('/content/gdrive') \n",
        "df = pd.read_csv('/content/gdrive/MyDrive/Dataset1.csv')"
      ],
      "execution_count": null,
      "outputs": []
    },
    {
      "cell_type": "markdown",
      "metadata": {
        "id": "Uyoia1c6sd-N"
      },
      "source": [
        "b)Summary of the dataset"
      ]
    },
    {
      "cell_type": "code",
      "metadata": {
        "id": "jUjcQp4asEqR"
      },
      "source": [
        "df.head()"
      ],
      "execution_count": null,
      "outputs": []
    },
    {
      "cell_type": "code",
      "metadata": {
        "id": "3qHqFBtbtA0e"
      },
      "source": [
        "print(df.keys())"
      ],
      "execution_count": null,
      "outputs": []
    },
    {
      "cell_type": "code",
      "metadata": {
        "id": "XWeKfOtLtDo0"
      },
      "source": [
        "print(df.describe())"
      ],
      "execution_count": null,
      "outputs": []
    },
    {
      "cell_type": "code",
      "metadata": {
        "id": "59RXOUB9tOCu"
      },
      "source": [
        "print(df.dtypes)"
      ],
      "execution_count": null,
      "outputs": []
    },
    {
      "cell_type": "markdown",
      "metadata": {
        "id": "8FOfnqsstulu"
      },
      "source": [
        "Data distribution"
      ]
    },
    {
      "cell_type": "code",
      "metadata": {
        "id": "Ul-zsp1GtOgg"
      },
      "source": [
        "plt.figure(figsize = [30, 21]) \n",
        "for i in range(1,df.shape[1]):\n",
        " column=df.columns[i]\n",
        " plt.subplot(3,4, i)\n",
        " plt.hist(df[column])"
      ],
      "execution_count": null,
      "outputs": []
    },
    {
      "cell_type": "markdown",
      "metadata": {
        "id": "yIYficvUuGog"
      },
      "source": [
        "Class Distribution"
      ]
    },
    {
      "cell_type": "code",
      "metadata": {
        "id": "VCV7ApfZuF3I"
      },
      "source": [
        "protein_localization = df['Protien Localization'].value_counts().plot(kind='pie', figsize=(10, 10))"
      ],
      "execution_count": null,
      "outputs": []
    },
    {
      "cell_type": "markdown",
      "metadata": {
        "id": "ZzWa_PYQu05C"
      },
      "source": [
        "Categorical Attribute: Protien Localization\n",
        "\n",
        "Continuous Atrribute: mcg,gvh,almScore,mitScore,vacScore,nuScore\n",
        "\n"
      ]
    },
    {
      "cell_type": "markdown",
      "metadata": {
        "id": "fmzbhuwqvXUz"
      },
      "source": [
        "Perform required preprocessing."
      ]
    },
    {
      "cell_type": "code",
      "metadata": {
        "id": "1WgHEX0au0h8"
      },
      "source": [
        "new_df=df.drop(['PresenceOfHDEL','Protien Localization'],axis = 1)"
      ],
      "execution_count": null,
      "outputs": []
    },
    {
      "cell_type": "code",
      "metadata": {
        "id": "jyfnuRInwA6c"
      },
      "source": [
        "print('countable attributes')\n",
        "print(new_df.shape[1])"
      ],
      "execution_count": null,
      "outputs": []
    },
    {
      "cell_type": "code",
      "metadata": {
        "id": "V6ijTgNbwGxn"
      },
      "source": [
        "Mean_result=list()\n",
        "for i in range(0,new_df.shape[1]):\n",
        " column=new_df.columns[i]\n",
        " Mean_result.append(new_df[column].mean())\n",
        "print(Mean_result)\n"
      ],
      "execution_count": null,
      "outputs": []
    },
    {
      "cell_type": "code",
      "metadata": {
        "id": "Zf838oHJwQDW"
      },
      "source": [
        "SD_result=list()\n",
        "for i in range(0,new_df.shape[1]):\n",
        " column=new_df.columns[i]\n",
        " SD_result.append(new_df[column].std())\n",
        "print(SD_result)"
      ],
      "execution_count": null,
      "outputs": []
    },
    {
      "cell_type": "code",
      "metadata": {
        "id": "7LCU7IJJwXt7"
      },
      "source": [
        "sdf=new_df\n",
        "for i in range(0,7):\n",
        " column=new_df.columns[i]\n",
        " sdf[column]=preprocessing.scale(new_df[column])\n",
        "sdf"
      ],
      "execution_count": null,
      "outputs": []
    },
    {
      "cell_type": "code",
      "metadata": {
        "id": "Uo1q-rSPwj5f"
      },
      "source": [
        "SMean_result=list()\n",
        "for i in range(0,7):\n",
        " column=sdf.columns[i]\n",
        " SMean_result.append(round(sdf[column].mean()))\n",
        "print(SMean_result)"
      ],
      "execution_count": null,
      "outputs": []
    },
    {
      "cell_type": "code",
      "metadata": {
        "id": "-Tvcyq3lwmV8"
      },
      "source": [
        "SSD_result=list()\n",
        "for i in range(0,7):\n",
        " column=sdf.columns[i]\n",
        " SSD_result.append(round(sdf[column].std()))\n",
        "print(SSD_result)"
      ],
      "execution_count": null,
      "outputs": []
    },
    {
      "cell_type": "code",
      "metadata": {
        "id": "9m9Y2WLWw4p9"
      },
      "source": [
        "plt.figure(figsize = [30, 21]) \n",
        "for i in range(1,sdf.shape[1]):\n",
        " column=sdf.columns[i]\n",
        " plt.subplot(3,4, i)\n",
        " plt.hist(sdf[column])"
      ],
      "execution_count": null,
      "outputs": []
    },
    {
      "cell_type": "markdown",
      "metadata": {
        "id": "SW9nXRv7xNq4"
      },
      "source": [
        "Split the data for training and testing purpose"
      ]
    },
    {
      "cell_type": "code",
      "metadata": {
        "id": "farnMM7TxNJT"
      },
      "source": [
        "X=sdf.values[:,:-1]\n",
        "Y=df['Protien Localization']"
      ],
      "execution_count": null,
      "outputs": []
    },
    {
      "cell_type": "code",
      "metadata": {
        "id": "jKhGoTvYxy0A"
      },
      "source": [
        "print(X.shape)\n",
        "print(Y.shape)"
      ],
      "execution_count": null,
      "outputs": []
    },
    {
      "cell_type": "code",
      "metadata": {
        "id": "Srdci6Cbx1cy"
      },
      "source": [
        "classLabels=np.unique(Y)\n",
        "classLabels"
      ],
      "execution_count": null,
      "outputs": []
    },
    {
      "cell_type": "code",
      "metadata": {
        "id": "rGrhlBfwyBJk"
      },
      "source": [
        "# college roll number : 18/94072 -> even -> 80:20  testing=20%  training=80%\n",
        "test_val = 0.20\n",
        "X_train, X_test, Y_train, Y_test = train_test_split(X,Y,test_size=test_val)"
      ],
      "execution_count": null,
      "outputs": []
    },
    {
      "cell_type": "code",
      "metadata": {
        "id": "t-9jV0qLyCEe"
      },
      "source": [
        "print(X_train.shape)\n",
        "print(X_test.shape)\n",
        "print(Y_train.shape)\n",
        "print(Y_test.shape)"
      ],
      "execution_count": null,
      "outputs": []
    },
    {
      "cell_type": "markdown",
      "metadata": {
        "id": "XLG6nH_hzUyx"
      },
      "source": [
        "KNN Classification"
      ]
    },
    {
      "cell_type": "code",
      "metadata": {
        "id": "5lNw8MyTynZ_"
      },
      "source": [
        "# 9+4+0+7+2=22 -> k=5\n",
        "acc =list()\n",
        "clf = KNeighborsClassifier(n_neighbors=5)\n",
        "clf=clf.fit(X_train,Y_train)\n",
        "Y_pred=clf.predict(X_test)\n",
        "a1=accuracy_score(Y_test,Y_pred)\n",
        "print(\"Accuracy in KNN base classifier:\")\n",
        "print(a1)\n",
        "acc.append(a1)\n",
        "print(\"confusion matrix is:\")\n",
        "confuss_mat=confusion_matrix(Y_test,Y_pred)\n",
        "print(confuss_mat)\n",
        "print(\"classification report:\")\n",
        "clf_report=classification_report(Y_test, Y_pred, target_names=classLabels,output_dict=True)\n",
        "print(clf_report)"
      ],
      "execution_count": null,
      "outputs": []
    },
    {
      "cell_type": "markdown",
      "metadata": {
        "id": "5gG7hgEV1d92"
      },
      "source": [
        "Apply Naive Bayes"
      ]
    },
    {
      "cell_type": "code",
      "metadata": {
        "id": "66Hrnrys7e2x"
      },
      "source": [
        "import warnings\n",
        "warnings.filterwarnings('always')  "
      ],
      "execution_count": null,
      "outputs": []
    },
    {
      "cell_type": "code",
      "metadata": {
        "id": "ylss63e31yc-"
      },
      "source": [
        "clf = GaussianNB()\n",
        "clf=clf.fit(X_train,Y_train)\n",
        "Y_pred=clf.predict(X_test)\n",
        "a2=accuracy_score(Y_test,Y_pred)\n",
        "print(\"Accuracy in naive bayes base classifier:\")\n",
        "print(a2)\n",
        "acc.append(a2)\n",
        "print(\"confusion matrix is:\")\n",
        "confuss_mat=confusion_matrix(Y_test,Y_pred)\n",
        "print(confuss_mat)\n",
        "print(\"classification report:\")\n",
        "clf_report=classification_report(Y_test, Y_pred, target_names=classLabels,output_dict=True)\n",
        "print(clf_report)"
      ],
      "execution_count": null,
      "outputs": []
    },
    {
      "cell_type": "markdown",
      "metadata": {
        "id": "vaf3dSx72sG9"
      },
      "source": [
        "Comparing accuracies"
      ]
    },
    {
      "cell_type": "code",
      "metadata": {
        "id": "XUi55ESe2pJY"
      },
      "source": [
        "acc"
      ],
      "execution_count": null,
      "outputs": []
    },
    {
      "cell_type": "code",
      "metadata": {
        "id": "MAQxNSgV2qt-"
      },
      "source": [
        "l = ['KNN', 'NB']\n",
        "barlist=plt.bar(l,acc)\n",
        "barlist[0].set_color('b')\n",
        "barlist[1].set_color('g')\n",
        "plt.show()"
      ],
      "execution_count": null,
      "outputs": []
    }
  ]
}
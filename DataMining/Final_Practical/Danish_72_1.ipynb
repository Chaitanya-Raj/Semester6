{
  "nbformat": 4,
  "nbformat_minor": 0,
  "metadata": {
    "colab": {
      "name": "Danish_72-1.ipynb",
      "provenance": [],
      "collapsed_sections": []
    },
    "kernelspec": {
      "name": "python3",
      "display_name": "Python 3"
    },
    "language_info": {
      "name": "python"
    }
  },
  "cells": [
    {
      "cell_type": "markdown",
      "metadata": {
        "id": "EoijTFbzsJXg"
      },
      "source": [
        "a) Libraries you will need to access the dataset"
      ]
    },
    {
      "cell_type": "code",
      "metadata": {
        "id": "B1Jw4pqwmkLa",
        "colab": {
          "base_uri": "https://localhost:8080/"
        },
        "outputId": "ebddd014-887b-4b6c-a5ba-6da54af4866e"
      },
      "source": [
        "import numpy as np  #importing numpy for numpy_array\n",
        "import pandas as pd  #Importing Pandas for reading CSV files\n",
        "import matplotlib.pyplot as plt  #importing matplotlib for plotting graphs \n",
        "import seaborn as sns  #importing seaborn for plotting heatmap\n",
        "from sklearn.model_selection import train_test_split  #importing sklearn for regression method\n",
        "from sklearn import preprocessing\n",
        "!pip install mlxtend --upgrade --no-deps\n",
        "from sklearn.metrics import accuracy_score, confusion_matrix\n",
        "from mlxtend.plotting import plot_confusion_matrix\n",
        "from sklearn.metrics import classification_report\n",
        "from sklearn.model_selection import cross_val_score\n",
        "from sklearn.naive_bayes import GaussianNB\n",
        "from sklearn.neighbors import KNeighborsClassifier\n",
        "%matplotlib inline"
      ],
      "execution_count": null,
      "outputs": [
        {
          "output_type": "stream",
          "text": [
            "Collecting mlxtend\n",
            "\u001b[?25l  Downloading https://files.pythonhosted.org/packages/86/30/781c0b962a70848db83339567ecab656638c62f05adb064cb33c0ae49244/mlxtend-0.18.0-py2.py3-none-any.whl (1.3MB)\n",
            "\u001b[K     |████████████████████████████████| 1.4MB 4.8MB/s \n",
            "\u001b[?25hInstalling collected packages: mlxtend\n",
            "  Found existing installation: mlxtend 0.14.0\n",
            "    Uninstalling mlxtend-0.14.0:\n",
            "      Successfully uninstalled mlxtend-0.14.0\n",
            "Successfully installed mlxtend-0.18.0\n"
          ],
          "name": "stdout"
        }
      ]
    },
    {
      "cell_type": "code",
      "metadata": {
        "id": "sEvW9ConrXDl",
        "colab": {
          "base_uri": "https://localhost:8080/"
        },
        "outputId": "175489c3-25bd-4cd7-fe6e-32e3cd984c2d"
      },
      "source": [
        "from google.colab import drive\n",
        "drive.mount('/content/gdrive') \n",
        "df = pd.read_csv('/content/gdrive/MyDrive/Dataset1.csv')"
      ],
      "execution_count": null,
      "outputs": [
        {
          "output_type": "stream",
          "text": [
            "Go to this URL in a browser: https://accounts.google.com/o/oauth2/auth?client_id=947318989803-6bn6qk8qdgf4n4g3pfee6491hc0brc4i.apps.googleusercontent.com&redirect_uri=urn%3aietf%3awg%3aoauth%3a2.0%3aoob&scope=email%20https%3a%2f%2fwww.googleapis.com%2fauth%2fdocs.test%20https%3a%2f%2fwww.googleapis.com%2fauth%2fdrive%20https%3a%2f%2fwww.googleapis.com%2fauth%2fdrive.photos.readonly%20https%3a%2f%2fwww.googleapis.com%2fauth%2fpeopleapi.readonly%20https%3a%2f%2fwww.googleapis.com%2fauth%2fdrive.activity.readonly%20https%3a%2f%2fwww.googleapis.com%2fauth%2fexperimentsandconfigs%20https%3a%2f%2fwww.googleapis.com%2fauth%2fphotos.native&response_type=code\n",
            "\n",
            "Enter your authorization code:\n",
            "4/1AY0e-g55oAw2agMn4TK71rg0Gnb0Ha4CQllUWZTfQMQrGIOyTZvHFxRV4EM\n",
            "Mounted at /content/gdrive\n"
          ],
          "name": "stdout"
        }
      ]
    },
    {
      "cell_type": "markdown",
      "metadata": {
        "id": "Uyoia1c6sd-N"
      },
      "source": [
        "b)Summary of the dataset"
      ]
    },
    {
      "cell_type": "code",
      "metadata": {
        "id": "jUjcQp4asEqR",
        "colab": {
          "base_uri": "https://localhost:8080/",
          "height": 241
        },
        "outputId": "cc55bb65-dfda-45fe-b429-fd9d6d725f58"
      },
      "source": [
        "df.head()"
      ],
      "execution_count": null,
      "outputs": [
        {
          "output_type": "execute_result",
          "data": {
            "text/html": [
              "<div>\n",
              "<style scoped>\n",
              "    .dataframe tbody tr th:only-of-type {\n",
              "        vertical-align: middle;\n",
              "    }\n",
              "\n",
              "    .dataframe tbody tr th {\n",
              "        vertical-align: top;\n",
              "    }\n",
              "\n",
              "    .dataframe thead th {\n",
              "        text-align: right;\n",
              "    }\n",
              "</style>\n",
              "<table border=\"1\" class=\"dataframe\">\n",
              "  <thead>\n",
              "    <tr style=\"text-align: right;\">\n",
              "      <th></th>\n",
              "      <th>mcg</th>\n",
              "      <th>gvh</th>\n",
              "      <th>almScore</th>\n",
              "      <th>mitScore</th>\n",
              "      <th>PresenceOfHDEL</th>\n",
              "      <th>pox</th>\n",
              "      <th>vacScore</th>\n",
              "      <th>nucScore</th>\n",
              "      <th>Protien Localization</th>\n",
              "    </tr>\n",
              "  </thead>\n",
              "  <tbody>\n",
              "    <tr>\n",
              "      <th>0</th>\n",
              "      <td>0.58</td>\n",
              "      <td>0.61</td>\n",
              "      <td>4.7</td>\n",
              "      <td>1.3</td>\n",
              "      <td>No</td>\n",
              "      <td>0.0</td>\n",
              "      <td>4.8</td>\n",
              "      <td>2.2</td>\n",
              "      <td>Mitochondrial</td>\n",
              "    </tr>\n",
              "    <tr>\n",
              "      <th>1</th>\n",
              "      <td>0.43</td>\n",
              "      <td>0.67</td>\n",
              "      <td>4.8</td>\n",
              "      <td>2.7</td>\n",
              "      <td>No</td>\n",
              "      <td>0.0</td>\n",
              "      <td>5.3</td>\n",
              "      <td>2.2</td>\n",
              "      <td>Mitochondrial</td>\n",
              "    </tr>\n",
              "    <tr>\n",
              "      <th>2</th>\n",
              "      <td>0.64</td>\n",
              "      <td>0.62</td>\n",
              "      <td>4.9</td>\n",
              "      <td>1.5</td>\n",
              "      <td>No</td>\n",
              "      <td>0.0</td>\n",
              "      <td>5.3</td>\n",
              "      <td>2.2</td>\n",
              "      <td>Mitochondrial</td>\n",
              "    </tr>\n",
              "    <tr>\n",
              "      <th>3</th>\n",
              "      <td>0.58</td>\n",
              "      <td>0.44</td>\n",
              "      <td>5.7</td>\n",
              "      <td>1.3</td>\n",
              "      <td>No</td>\n",
              "      <td>0.0</td>\n",
              "      <td>5.4</td>\n",
              "      <td>2.2</td>\n",
              "      <td>Nuclear</td>\n",
              "    </tr>\n",
              "    <tr>\n",
              "      <th>4</th>\n",
              "      <td>0.42</td>\n",
              "      <td>0.44</td>\n",
              "      <td>4.8</td>\n",
              "      <td>5.4</td>\n",
              "      <td>No</td>\n",
              "      <td>0.0</td>\n",
              "      <td>4.8</td>\n",
              "      <td>2.2</td>\n",
              "      <td>Mitochondrial</td>\n",
              "    </tr>\n",
              "  </tbody>\n",
              "</table>\n",
              "</div>"
            ],
            "text/plain": [
              "    mcg   gvh  almScore  mitScore  ...  pox  vacScore  nucScore  Protien Localization\n",
              "0  0.58  0.61       4.7       1.3  ...  0.0       4.8       2.2         Mitochondrial\n",
              "1  0.43  0.67       4.8       2.7  ...  0.0       5.3       2.2         Mitochondrial\n",
              "2  0.64  0.62       4.9       1.5  ...  0.0       5.3       2.2         Mitochondrial\n",
              "3  0.58  0.44       5.7       1.3  ...  0.0       5.4       2.2               Nuclear\n",
              "4  0.42  0.44       4.8       5.4  ...  0.0       4.8       2.2         Mitochondrial\n",
              "\n",
              "[5 rows x 9 columns]"
            ]
          },
          "metadata": {
            "tags": []
          },
          "execution_count": 3
        }
      ]
    },
    {
      "cell_type": "code",
      "metadata": {
        "id": "3qHqFBtbtA0e",
        "colab": {
          "base_uri": "https://localhost:8080/"
        },
        "outputId": "dd00a213-aaef-493a-98e1-3277cffb6407"
      },
      "source": [
        "print(df.keys())"
      ],
      "execution_count": null,
      "outputs": [
        {
          "output_type": "stream",
          "text": [
            "Index(['mcg', 'gvh', 'almScore', 'mitScore', 'PresenceOfHDEL', 'pox',\n",
            "       'vacScore', 'nucScore', 'Protien Localization'],\n",
            "      dtype='object')\n"
          ],
          "name": "stdout"
        }
      ]
    },
    {
      "cell_type": "code",
      "metadata": {
        "id": "XWeKfOtLtDo0",
        "colab": {
          "base_uri": "https://localhost:8080/"
        },
        "outputId": "83cd3115-342e-49f4-80e6-3129270c8809"
      },
      "source": [
        "print(df.describe())"
      ],
      "execution_count": null,
      "outputs": [
        {
          "output_type": "stream",
          "text": [
            "               mcg          gvh  ...     vacScore     nucScore\n",
            "count  1299.000000  1299.000000  ...  1299.000000  1299.000000\n",
            "mean      0.472771     0.479569  ...     4.994226     2.803695\n",
            "std       0.109463     0.105939  ...     0.570761     1.109756\n",
            "min       0.110000     0.130000  ...     0.000000     0.000000\n",
            "25%       0.400000     0.410000  ...     4.800000     2.200000\n",
            "50%       0.470000     0.480000  ...     5.100000     2.200000\n",
            "75%       0.550000     0.550000  ...     5.300000     3.100000\n",
            "max       0.900000     1.000000  ...     7.300000    10.000000\n",
            "\n",
            "[8 rows x 7 columns]\n"
          ],
          "name": "stdout"
        }
      ]
    },
    {
      "cell_type": "code",
      "metadata": {
        "id": "59RXOUB9tOCu",
        "colab": {
          "base_uri": "https://localhost:8080/"
        },
        "outputId": "aecee32e-5ae2-427f-e167-ba7d3afd7e17"
      },
      "source": [
        "print(df.dtypes)"
      ],
      "execution_count": null,
      "outputs": [
        {
          "output_type": "stream",
          "text": [
            "mcg                     float64\n",
            "gvh                     float64\n",
            "almScore                float64\n",
            "mitScore                float64\n",
            "PresenceOfHDEL           object\n",
            "pox                     float64\n",
            "vacScore                float64\n",
            "nucScore                float64\n",
            "Protien Localization     object\n",
            "dtype: object\n"
          ],
          "name": "stdout"
        }
      ]
    },
    {
      "cell_type": "markdown",
      "metadata": {
        "id": "8FOfnqsstulu"
      },
      "source": [
        "Data distribution"
      ]
    },
    {
      "cell_type": "code",
      "metadata": {
        "id": "Ul-zsp1GtOgg",
        "colab": {
          "base_uri": "https://localhost:8080/",
          "height": 138
        },
        "outputId": "82ee443a-42d4-4aae-e4e9-b990b7a3fa98"
      },
      "source": [
        "plt.figure(figsize = [30, 21]) \n",
        "for i in range(1,df.shape[1]):\n",
        " column=df.columns[i]\n",
        " plt.subplot(3,4, i)\n",
        " plt.hist(df[column])"
      ],
      "execution_count": null,
      "outputs": [
        {
          "output_type": "display_data",
          "data": {
            "image/png": "[encoded data removed]",
            "text/plain": [
              "<Figure size 2160x1512 with 8 Axes>"
            ]
          },
          "metadata": {
            "tags": [],
            "needs_background": "light"
          }
        }
      ]
    },
    {
      "cell_type": "markdown",
      "metadata": {
        "id": "yIYficvUuGog"
      },
      "source": [
        "Class Distribution"
      ]
    },
    {
      "cell_type": "code",
      "metadata": {
        "id": "VCV7ApfZuF3I",
        "colab": {
          "base_uri": "https://localhost:8080/",
          "height": 282
        },
        "outputId": "8315da09-7ddd-454b-cbf2-89ae975d565b"
      },
      "source": [
        "protein_localization = df['Protien Localization'].value_counts().plot(kind='pie', figsize=(10, 10))"
      ],
      "execution_count": null,
      "outputs": [
        {
          "output_type": "display_data",
          "data": {
            "image/png": "[encoded data removed]",
            "text/plain": [
              "<Figure size 720x720 with 1 Axes>"
            ]
          },
          "metadata": {
            "tags": []
          }
        }
      ]
    },
    {
      "cell_type": "markdown",
      "metadata": {
        "id": "ZzWa_PYQu05C"
      },
      "source": [
        "Categorical Attribute: Protien Localization\n",
        "\n",
        "Continuous Atrribute: mcg,gvh,almScore,mitScore,vacScore,nuScore\n",
        "\n"
      ]
    },
    {
      "cell_type": "markdown",
      "metadata": {
        "id": "fmzbhuwqvXUz"
      },
      "source": [
        "Perform required preprocessing."
      ]
    },
    {
      "cell_type": "code",
      "metadata": {
        "id": "1WgHEX0au0h8"
      },
      "source": [
        "new_df=df.drop(['PresenceOfHDEL','Protien Localization'],axis = 1)"
      ],
      "execution_count": null,
      "outputs": []
    },
    {
      "cell_type": "code",
      "metadata": {
        "id": "jyfnuRInwA6c",
        "colab": {
          "base_uri": "https://localhost:8080/"
        },
        "outputId": "e6ecd483-619d-41d6-e79c-1ed128be0917"
      },
      "source": [
        "print('countable attributes')\n",
        "print(new_df.shape[1])"
      ],
      "execution_count": null,
      "outputs": [
        {
          "output_type": "stream",
          "text": [
            "countable attributes\n",
            "7\n"
          ],
          "name": "stdout"
        }
      ]
    },
    {
      "cell_type": "code",
      "metadata": {
        "id": "V6ijTgNbwGxn",
        "colab": {
          "base_uri": "https://localhost:8080/"
        },
        "outputId": "4d0240b4-eaf3-4bee-9646-2f43ee4c7284"
      },
      "source": [
        "Mean_result=list()\n",
        "for i in range(0,new_df.shape[1]):\n",
        " column=new_df.columns[i]\n",
        " Mean_result.append(new_df[column].mean())\n",
        "print(Mean_result)\n"
      ],
      "execution_count": null,
      "outputs": [
        {
          "output_type": "stream",
          "text": [
            "[0.4727713625866048, 0.4795688991531939, 5.085450346420332, 2.5911470361816806, 0.0020477290223248653, 4.994226327944569, 2.80369515011544]\n"
          ],
          "name": "stdout"
        }
      ]
    },
    {
      "cell_type": "code",
      "metadata": {
        "id": "Zf838oHJwQDW",
        "colab": {
          "base_uri": "https://localhost:8080/"
        },
        "outputId": "5eb1435d-9367-409e-8972-2b61dfc9ce6d"
      },
      "source": [
        "SD_result=list()\n",
        "for i in range(0,new_df.shape[1]):\n",
        " column=new_df.columns[i]\n",
        " SD_result.append(new_df[column].std())\n",
        "print(SD_result)"
      ],
      "execution_count": null,
      "outputs": [
        {
          "output_type": "stream",
          "text": [
            "[0.10946298068637601, 0.10593904177792143, 0.8369155212982629, 1.3987194757127426, 0.037980136735418925, 0.5707607832486336, 1.109755821807907]\n"
          ],
          "name": "stdout"
        }
      ]
    },
    {
      "cell_type": "code",
      "metadata": {
        "id": "7LCU7IJJwXt7",
        "colab": {
          "base_uri": "https://localhost:8080/",
          "height": 439
        },
        "outputId": "f8c5574a-4fdb-42e1-e07d-03f6b3fbaf02"
      },
      "source": [
        "sdf=new_df\n",
        "for i in range(0,7):\n",
        " column=new_df.columns[i]\n",
        " sdf[column]=preprocessing.scale(new_df[column])\n",
        "sdf"
      ],
      "execution_count": null,
      "outputs": [
        {
          "output_type": "execute_result",
          "data": {
            "text/html": [
              "<div>\n",
              "<style scoped>\n",
              "    .dataframe tbody tr th:only-of-type {\n",
              "        vertical-align: middle;\n",
              "    }\n",
              "\n",
              "    .dataframe tbody tr th {\n",
              "        vertical-align: top;\n",
              "    }\n",
              "\n",
              "    .dataframe thead th {\n",
              "        text-align: right;\n",
              "    }\n",
              "</style>\n",
              "<table border=\"1\" class=\"dataframe\">\n",
              "  <thead>\n",
              "    <tr style=\"text-align: right;\">\n",
              "      <th></th>\n",
              "      <th>mcg</th>\n",
              "      <th>gvh</th>\n",
              "      <th>almScore</th>\n",
              "      <th>mitScore</th>\n",
              "      <th>pox</th>\n",
              "      <th>vacScore</th>\n",
              "      <th>nucScore</th>\n",
              "    </tr>\n",
              "  </thead>\n",
              "  <tbody>\n",
              "    <tr>\n",
              "      <th>0</th>\n",
              "      <td>0.979965</td>\n",
              "      <td>1.231664</td>\n",
              "      <td>-0.460738</td>\n",
              "      <td>-0.923448</td>\n",
              "      <td>-0.053937</td>\n",
              "      <td>-0.340425</td>\n",
              "      <td>-0.544199</td>\n",
              "    </tr>\n",
              "    <tr>\n",
              "      <th>1</th>\n",
              "      <td>-0.390889</td>\n",
              "      <td>1.798246</td>\n",
              "      <td>-0.341206</td>\n",
              "      <td>0.077853</td>\n",
              "      <td>-0.053937</td>\n",
              "      <td>0.535936</td>\n",
              "      <td>-0.544199</td>\n",
              "    </tr>\n",
              "    <tr>\n",
              "      <th>2</th>\n",
              "      <td>1.528307</td>\n",
              "      <td>1.326095</td>\n",
              "      <td>-0.221673</td>\n",
              "      <td>-0.780405</td>\n",
              "      <td>-0.053937</td>\n",
              "      <td>0.535936</td>\n",
              "      <td>-0.544199</td>\n",
              "    </tr>\n",
              "    <tr>\n",
              "      <th>3</th>\n",
              "      <td>0.979965</td>\n",
              "      <td>-0.373650</td>\n",
              "      <td>0.734586</td>\n",
              "      <td>-0.923448</td>\n",
              "      <td>-0.053937</td>\n",
              "      <td>0.711209</td>\n",
              "      <td>-0.544199</td>\n",
              "    </tr>\n",
              "    <tr>\n",
              "      <th>4</th>\n",
              "      <td>-0.482279</td>\n",
              "      <td>-0.373650</td>\n",
              "      <td>-0.341206</td>\n",
              "      <td>2.008934</td>\n",
              "      <td>-0.053937</td>\n",
              "      <td>-0.340425</td>\n",
              "      <td>-0.544199</td>\n",
              "    </tr>\n",
              "    <tr>\n",
              "      <th>...</th>\n",
              "      <td>...</td>\n",
              "      <td>...</td>\n",
              "      <td>...</td>\n",
              "      <td>...</td>\n",
              "      <td>...</td>\n",
              "      <td>...</td>\n",
              "      <td>...</td>\n",
              "    </tr>\n",
              "    <tr>\n",
              "      <th>1294</th>\n",
              "      <td>-0.847840</td>\n",
              "      <td>-1.506813</td>\n",
              "      <td>1.571313</td>\n",
              "      <td>1.079154</td>\n",
              "      <td>-0.053937</td>\n",
              "      <td>-1.041514</td>\n",
              "      <td>-1.535789</td>\n",
              "    </tr>\n",
              "    <tr>\n",
              "      <th>1295</th>\n",
              "      <td>-0.847840</td>\n",
              "      <td>-0.751371</td>\n",
              "      <td>1.810377</td>\n",
              "      <td>0.650025</td>\n",
              "      <td>-0.053937</td>\n",
              "      <td>-1.216786</td>\n",
              "      <td>-1.535789</td>\n",
              "    </tr>\n",
              "    <tr>\n",
              "      <th>1296</th>\n",
              "      <td>-0.025328</td>\n",
              "      <td>-0.468080</td>\n",
              "      <td>1.212715</td>\n",
              "      <td>1.007633</td>\n",
              "      <td>-0.053937</td>\n",
              "      <td>-0.340425</td>\n",
              "      <td>1.709417</td>\n",
              "    </tr>\n",
              "    <tr>\n",
              "      <th>1297</th>\n",
              "      <td>-0.390889</td>\n",
              "      <td>-0.751371</td>\n",
              "      <td>1.093183</td>\n",
              "      <td>-0.708883</td>\n",
              "      <td>-0.053937</td>\n",
              "      <td>0.535936</td>\n",
              "      <td>0.988260</td>\n",
              "    </tr>\n",
              "    <tr>\n",
              "      <th>1298</th>\n",
              "      <td>1.619697</td>\n",
              "      <td>0.570652</td>\n",
              "      <td>0.375989</td>\n",
              "      <td>-0.923448</td>\n",
              "      <td>-0.053937</td>\n",
              "      <td>0.535936</td>\n",
              "      <td>-0.544199</td>\n",
              "    </tr>\n",
              "  </tbody>\n",
              "</table>\n",
              "<p>1299 rows × 7 columns</p>\n",
              "</div>"
            ],
            "text/plain": [
              "           mcg       gvh  almScore  mitScore       pox  vacScore  nucScore\n",
              "0     0.979965  1.231664 -0.460738 -0.923448 -0.053937 -0.340425 -0.544199\n",
              "1    -0.390889  1.798246 -0.341206  0.077853 -0.053937  0.535936 -0.544199\n",
              "2     1.528307  1.326095 -0.221673 -0.780405 -0.053937  0.535936 -0.544199\n",
              "3     0.979965 -0.373650  0.734586 -0.923448 -0.053937  0.711209 -0.544199\n",
              "4    -0.482279 -0.373650 -0.341206  2.008934 -0.053937 -0.340425 -0.544199\n",
              "...        ...       ...       ...       ...       ...       ...       ...\n",
              "1294 -0.847840 -1.506813  1.571313  1.079154 -0.053937 -1.041514 -1.535789\n",
              "1295 -0.847840 -0.751371  1.810377  0.650025 -0.053937 -1.216786 -1.535789\n",
              "1296 -0.025328 -0.468080  1.212715  1.007633 -0.053937 -0.340425  1.709417\n",
              "1297 -0.390889 -0.751371  1.093183 -0.708883 -0.053937  0.535936  0.988260\n",
              "1298  1.619697  0.570652  0.375989 -0.923448 -0.053937  0.535936 -0.544199\n",
              "\n",
              "[1299 rows x 7 columns]"
            ]
          },
          "metadata": {
            "tags": []
          },
          "execution_count": 13
        }
      ]
    },
    {
      "cell_type": "code",
      "metadata": {
        "id": "Uo1q-rSPwj5f",
        "colab": {
          "base_uri": "https://localhost:8080/"
        },
        "outputId": "75173d79-5bf0-41c8-ccff-f6bd258a4e4c"
      },
      "source": [
        "SMean_result=list()\n",
        "for i in range(0,7):\n",
        " column=sdf.columns[i]\n",
        " SMean_result.append(round(sdf[column].mean()))\n",
        "print(SMean_result)"
      ],
      "execution_count": null,
      "outputs": [
        {
          "output_type": "stream",
          "text": [
            "[0, 0, 0, 0, 0, 0, 0]\n"
          ],
          "name": "stdout"
        }
      ]
    },
    {
      "cell_type": "code",
      "metadata": {
        "id": "-Tvcyq3lwmV8",
        "colab": {
          "base_uri": "https://localhost:8080/"
        },
        "outputId": "87ce93f0-26aa-43bd-da6c-ec1221ebe7bc"
      },
      "source": [
        "SSD_result=list()\n",
        "for i in range(0,7):\n",
        " column=sdf.columns[i]\n",
        " SSD_result.append(round(sdf[column].std()))\n",
        "print(SSD_result)"
      ],
      "execution_count": null,
      "outputs": [
        {
          "output_type": "stream",
          "text": [
            "[1, 1, 1, 1, 1, 1, 1]\n"
          ],
          "name": "stdout"
        }
      ]
    },
    {
      "cell_type": "code",
      "metadata": {
        "id": "9m9Y2WLWw4p9",
        "colab": {
          "base_uri": "https://localhost:8080/",
          "height": 138
        },
        "outputId": "5e22230d-e09c-4877-9d91-2baf1dcc4c48"
      },
      "source": [
        "plt.figure(figsize = [30, 21]) \n",
        "for i in range(1,sdf.shape[1]):\n",
        " column=sdf.columns[i]\n",
        " plt.subplot(3,4, i)\n",
        " plt.hist(sdf[column])"
      ],
      "execution_count": null,
      "outputs": [
        {
          "output_type": "display_data",
          "data": {
            "image/png": "[encoded data removed]",
            "text/plain": [
              "<Figure size 2160x1512 with 6 Axes>"
            ]
          },
          "metadata": {
            "tags": [],
            "needs_background": "light"
          }
        }
      ]
    },
    {
      "cell_type": "markdown",
      "metadata": {
        "id": "SW9nXRv7xNq4"
      },
      "source": [
        "Split the data for training and testing purpose"
      ]
    },
    {
      "cell_type": "code",
      "metadata": {
        "id": "farnMM7TxNJT"
      },
      "source": [
        "X=sdf.values[:,:-1]\n",
        "Y=df['Protien Localization']"
      ],
      "execution_count": null,
      "outputs": []
    },
    {
      "cell_type": "code",
      "metadata": {
        "id": "jKhGoTvYxy0A",
        "colab": {
          "base_uri": "https://localhost:8080/"
        },
        "outputId": "05edfa8e-9c9e-495d-f3ea-5c1d698cc4a9"
      },
      "source": [
        "print(X.shape)\n",
        "print(Y.shape)"
      ],
      "execution_count": null,
      "outputs": [
        {
          "output_type": "stream",
          "text": [
            "(1299, 6)\n",
            "(1299,)\n"
          ],
          "name": "stdout"
        }
      ]
    },
    {
      "cell_type": "code",
      "metadata": {
        "id": "Srdci6Cbx1cy",
        "colab": {
          "base_uri": "https://localhost:8080/"
        },
        "outputId": "6c2338e5-f874-4ed0-d9e0-4b0eae73a8ff"
      },
      "source": [
        "classLabels=np.unique(Y)\n",
        "classLabels"
      ],
      "execution_count": null,
      "outputs": [
        {
          "output_type": "execute_result",
          "data": {
            "text/plain": [
              "array(['Cytoskeletal', 'ME3', 'Mitochondrial', 'Nuclear'], dtype=object)"
            ]
          },
          "metadata": {
            "tags": []
          },
          "execution_count": 19
        }
      ]
    },
    {
      "cell_type": "code",
      "metadata": {
        "id": "rGrhlBfwyBJk"
      },
      "source": [
        "# college roll number : 18/94072 -> even -> 80:20  testing=20%  training=80%\n",
        "test_val = 0.20\n",
        "X_train, X_test, Y_train, Y_test = train_test_split(X,Y,test_size=test_val)"
      ],
      "execution_count": null,
      "outputs": []
    },
    {
      "cell_type": "code",
      "metadata": {
        "id": "t-9jV0qLyCEe",
        "colab": {
          "base_uri": "https://localhost:8080/"
        },
        "outputId": "3442b36e-942f-4848-a177-9b619b95e686"
      },
      "source": [
        "print(X_train.shape)\n",
        "print(X_test.shape)\n",
        "print(Y_train.shape)\n",
        "print(Y_test.shape)"
      ],
      "execution_count": null,
      "outputs": [
        {
          "output_type": "stream",
          "text": [
            "(1039, 6)\n",
            "(260, 6)\n",
            "(1039,)\n",
            "(260,)\n"
          ],
          "name": "stdout"
        }
      ]
    },
    {
      "cell_type": "markdown",
      "metadata": {
        "id": "XLG6nH_hzUyx"
      },
      "source": [
        "KNN Classification"
      ]
    },
    {
      "cell_type": "code",
      "metadata": {
        "id": "5lNw8MyTynZ_",
        "colab": {
          "base_uri": "https://localhost:8080/"
        },
        "outputId": "07955842-3298-4d39-ce03-efcefa7bdc04"
      },
      "source": [
        "# 9+4+0+7+2=22 -> k=5\n",
        "acc =list()\n",
        "clf = KNeighborsClassifier(n_neighbors=5)\n",
        "clf=clf.fit(X_train,Y_train)\n",
        "Y_pred=clf.predict(X_test)\n",
        "a1=accuracy_score(Y_test,Y_pred)\n",
        "print(\"Accuracy in KNN base classifier:\")\n",
        "print(a1)\n",
        "acc.append(a1)\n",
        "print(\"confusion matrix is:\")\n",
        "confuss_mat=confusion_matrix(Y_test,Y_pred)\n",
        "print(confuss_mat)\n",
        "print(\"classification report:\")\n",
        "clf_report=classification_report(Y_test, Y_pred, target_names=classLabels,output_dict=True)\n",
        "print(clf_report)"
      ],
      "execution_count": null,
      "outputs": [
        {
          "output_type": "stream",
          "text": [
            "Accuracy in KNN base classifier:\n",
            "0.5269230769230769\n",
            "confusion matrix is:\n",
            "[[51  1  9 33]\n",
            " [ 3 26  2  4]\n",
            " [16  3 27 10]\n",
            " [33  2  7 33]]\n",
            "classification report:\n",
            "{'Cytoskeletal': {'precision': 0.49514563106796117, 'recall': 0.5425531914893617, 'f1-score': 0.5177664974619288, 'support': 94}, 'ME3': {'precision': 0.8125, 'recall': 0.7428571428571429, 'f1-score': 0.7761194029850748, 'support': 35}, 'Mitochondrial': {'precision': 0.6, 'recall': 0.48214285714285715, 'f1-score': 0.5346534653465347, 'support': 56}, 'Nuclear': {'precision': 0.4125, 'recall': 0.44, 'f1-score': 0.4258064516129032, 'support': 75}, 'accuracy': 0.5269230769230769, 'macro avg': {'precision': 0.5800364077669903, 'recall': 0.5518882978723404, 'f1-score': 0.5635864543516104, 'support': 260}, 'weighted avg': {'precision': 0.5366103435399552, 'recall': 0.5269230769230769, 'f1-score': 0.5296550299856638, 'support': 260}}\n"
          ],
          "name": "stdout"
        }
      ]
    },
    {
      "cell_type": "markdown",
      "metadata": {
        "id": "5gG7hgEV1d92"
      },
      "source": [
        "Apply Naive Bayes"
      ]
    },
    {
      "cell_type": "code",
      "metadata": {
        "id": "66Hrnrys7e2x"
      },
      "source": [
        "import warnings\n",
        "warnings.filterwarnings('always')  "
      ],
      "execution_count": null,
      "outputs": []
    },
    {
      "cell_type": "code",
      "metadata": {
        "id": "ylss63e31yc-",
        "colab": {
          "base_uri": "https://localhost:8080/"
        },
        "outputId": "34a8261c-5c32-41a8-f353-75d6f2dbdb90"
      },
      "source": [
        "clf = GaussianNB()\n",
        "clf=clf.fit(X_train,Y_train)\n",
        "Y_pred=clf.predict(X_test)\n",
        "a2=accuracy_score(Y_test,Y_pred)\n",
        "print(\"Accuracy in naive bayes base classifier:\")\n",
        "print(a2)\n",
        "acc.append(a2)\n",
        "print(\"confusion matrix is:\")\n",
        "confuss_mat=confusion_matrix(Y_test,Y_pred)\n",
        "print(confuss_mat)\n",
        "print(\"classification report:\")\n",
        "clf_report=classification_report(Y_test, Y_pred, target_names=classLabels,output_dict=True)\n",
        "print(clf_report)"
      ],
      "execution_count": null,
      "outputs": [
        {
          "output_type": "stream",
          "text": [
            "Accuracy in naive bayes base classifier:\n",
            "0.3923076923076923\n",
            "confusion matrix is:\n",
            "[[ 0  2  0 92]\n",
            " [ 0 29  0  6]\n",
            " [ 0  3  1 52]\n",
            " [ 0  3  0 72]]\n",
            "classification report:\n",
            "{'Cytoskeletal': {'precision': 0.0, 'recall': 0.0, 'f1-score': 0.0, 'support': 94}, 'ME3': {'precision': 0.7837837837837838, 'recall': 0.8285714285714286, 'f1-score': 0.8055555555555555, 'support': 35}, 'Mitochondrial': {'precision': 1.0, 'recall': 0.017857142857142856, 'f1-score': 0.03508771929824561, 'support': 56}, 'Nuclear': {'precision': 0.32432432432432434, 'recall': 0.96, 'f1-score': 0.4848484848484848, 'support': 75}, 'accuracy': 0.3923076923076923, 'macro avg': {'precision': 0.527027027027027, 'recall': 0.4516071428571429, 'f1-score': 0.3313729399255715, 'support': 260}, 'weighted avg': {'precision': 0.41444906444906443, 'recall': 0.3923076923076923, 'f1-score': 0.25585766572608676, 'support': 260}}\n"
          ],
          "name": "stdout"
        },
        {
          "output_type": "stream",
          "text": [
            "/usr/local/lib/python3.7/dist-packages/sklearn/metrics/_classification.py:1272: UndefinedMetricWarning: Precision and F-score are ill-defined and being set to 0.0 in labels with no predicted samples. Use `zero_division` parameter to control this behavior.\n",
            "  _warn_prf(average, modifier, msg_start, len(result))\n",
            "/usr/local/lib/python3.7/dist-packages/sklearn/metrics/_classification.py:1272: UndefinedMetricWarning: Precision and F-score are ill-defined and being set to 0.0 in labels with no predicted samples. Use `zero_division` parameter to control this behavior.\n",
            "  _warn_prf(average, modifier, msg_start, len(result))\n",
            "/usr/local/lib/python3.7/dist-packages/sklearn/metrics/_classification.py:1272: UndefinedMetricWarning: Precision and F-score are ill-defined and being set to 0.0 in labels with no predicted samples. Use `zero_division` parameter to control this behavior.\n",
            "  _warn_prf(average, modifier, msg_start, len(result))\n"
          ],
          "name": "stderr"
        }
      ]
    },
    {
      "cell_type": "markdown",
      "metadata": {
        "id": "vaf3dSx72sG9"
      },
      "source": [
        "Comparing accuracies"
      ]
    },
    {
      "cell_type": "code",
      "metadata": {
        "id": "XUi55ESe2pJY",
        "colab": {
          "base_uri": "https://localhost:8080/"
        },
        "outputId": "762d222f-5a75-410c-f3bc-c0958be97743"
      },
      "source": [
        "acc"
      ],
      "execution_count": null,
      "outputs": [
        {
          "output_type": "execute_result",
          "data": {
            "text/plain": [
              "[0.5269230769230769, 0.3923076923076923]"
            ]
          },
          "metadata": {
            "tags": []
          },
          "execution_count": 25
        }
      ]
    },
    {
      "cell_type": "code",
      "metadata": {
        "id": "MAQxNSgV2qt-",
        "colab": {
          "base_uri": "https://localhost:8080/",
          "height": 197
        },
        "outputId": "5391ec0f-0bd1-447a-a9c2-a1cd58c8b7ad"
      },
      "source": [
        "l = ['KNN', 'NB']\n",
        "barlist=plt.bar(l,acc)\n",
        "barlist[0].set_color('b')\n",
        "barlist[1].set_color('g')\n",
        "plt.show()"
      ],
      "execution_count": null,
      "outputs": [
        {
          "output_type": "display_data",
          "data": {
            "image/png": "[encoded data removed]",
            "text/plain": [
              "<Figure size 432x288 with 1 Axes>"
            ]
          },
          "metadata": {
            "tags": [],
            "needs_background": "light"
          }
        }
      ]
    }
  ]
}
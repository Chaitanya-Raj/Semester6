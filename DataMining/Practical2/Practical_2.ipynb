{
  "nbformat": 4,
  "nbformat_minor": 0,
  "metadata": {
    "colab": {
      "name": "Practical_2.ipynb",
      "provenance": [],
      "collapsed_sections": []
    },
    "kernelspec": {
      "name": "python3",
      "display_name": "Python 3"
    }
  },
  "cells": [
    {
      "cell_type": "code",
      "metadata": {
        "id": "qKy0z4WvFrnJ",
        "colab": {
          "base_uri": "https://localhost:8080/",
          "height": 0
        },
        "outputId": "6de3e95c-f10d-4954-e44b-e691706354c2"
      },
      "source": [
        "import pandas as pd\r\n",
        "from google.colab import drive\r\n",
        "drive.mount('/content/gdrive')"
      ],
      "execution_count": 59,
      "outputs": [
        {
          "output_type": "stream",
          "text": [
            "Drive already mounted at /content/gdrive; to attempt to forcibly remount, call drive.mount(\"/content/gdrive\", force_remount=True).\n"
          ],
          "name": "stdout"
        }
      ]
    },
    {
      "cell_type": "markdown",
      "metadata": {
        "id": "apAj28T2F7Up"
      },
      "source": [
        "Q2.Perform the following preprocessing tasks on the dirty_iris data set ii."
      ]
    },
    {
      "cell_type": "code",
      "metadata": {
        "id": "ZuR88PywF84M",
        "colab": {
          "base_uri": "https://localhost:8080/",
          "height": 0
        },
        "outputId": "897ead0f-82d2-4135-d586-72cdcec1c787"
      },
      "source": [
        "data=pd.read_csv('/content/gdrive/MyDrive/dirty_iris.csv')\r\n",
        "print(data)"
      ],
      "execution_count": 60,
      "outputs": [
        {
          "output_type": "stream",
          "text": [
            "     Sepal.Length  Sepal.Width  Petal.Length  Petal.Width     Species\n",
            "0             6.4          3.2           4.5          1.5  versicolor\n",
            "1             6.3          3.3           6.0          2.5   virginica\n",
            "2             6.2          NaN           5.4          2.3   virginica\n",
            "3             5.0          3.4           1.6          0.4      setosa\n",
            "4             5.7          2.6           3.5          1.0  versicolor\n",
            "..            ...          ...           ...          ...         ...\n",
            "145           6.7          3.1           5.6          2.4   virginica\n",
            "146           5.6          3.0           4.5          1.5  versicolor\n",
            "147           5.2          3.5           1.5          0.2      setosa\n",
            "148           6.4          3.1           NaN          1.8   virginica\n",
            "149           5.8          2.6           4.0          NaN  versicolor\n",
            "\n",
            "[150 rows x 5 columns]\n"
          ],
          "name": "stdout"
        }
      ]
    },
    {
      "cell_type": "markdown",
      "metadata": {
        "id": "pCpEfZgzF-QP"
      },
      "source": [
        "i) Calculate the number and percentage of observations that are complete."
      ]
    },
    {
      "cell_type": "code",
      "metadata": {
        "id": "FpLClGaRGAbg",
        "colab": {
          "base_uri": "https://localhost:8080/",
          "height": 0
        },
        "outputId": "9e2e6ffc-853d-453a-c002-01662155fa84"
      },
      "source": [
        "n=len(data.dropna())\r\n",
        "print(\"Number of observations that are completed: \",n)\r\n",
        "print(\"Percentage of observations that are completed: \",n/len(data)*100,\"%\")"
      ],
      "execution_count": 61,
      "outputs": [
        {
          "output_type": "stream",
          "text": [
            "Number of observations that are completed:  96\n",
            "Percentage of observations that are completed:  64.0 %\n"
          ],
          "name": "stdout"
        }
      ]
    },
    {
      "cell_type": "markdown",
      "metadata": {
        "id": "vg-OTUfPGCQ2"
      },
      "source": [
        "ii) Replace all the special values in data with NA."
      ]
    },
    {
      "cell_type": "code",
      "metadata": {
        "id": "bNFb91cXGECW",
        "colab": {
          "base_uri": "https://localhost:8080/",
          "height": 0
        },
        "outputId": "e16e1e0f-a84d-46dd-f507-27d76b7186be"
      },
      "source": [
        "data.fillna(value=\"NA\",inplace=True)\r\n",
        "print(data)"
      ],
      "execution_count": 62,
      "outputs": [
        {
          "output_type": "stream",
          "text": [
            "    Sepal.Length Sepal.Width Petal.Length Petal.Width     Species\n",
            "0            6.4         3.2          4.5         1.5  versicolor\n",
            "1            6.3         3.3            6         2.5   virginica\n",
            "2            6.2          NA          5.4         2.3   virginica\n",
            "3              5         3.4          1.6         0.4      setosa\n",
            "4            5.7         2.6          3.5           1  versicolor\n",
            "..           ...         ...          ...         ...         ...\n",
            "145          6.7         3.1          5.6         2.4   virginica\n",
            "146          5.6           3          4.5         1.5  versicolor\n",
            "147          5.2         3.5          1.5         0.2      setosa\n",
            "148          6.4         3.1           NA         1.8   virginica\n",
            "149          5.8         2.6            4          NA  versicolor\n",
            "\n",
            "[150 rows x 5 columns]\n"
          ],
          "name": "stdout"
        }
      ]
    },
    {
      "cell_type": "markdown",
      "metadata": {
        "id": "DvsBQYTLGeIa"
      },
      "source": [
        "iii) Define these rules in a separate text file and read them.\r\n",
        "\r\n",
        "Print the resulting constraint object.\r\n",
        "–Species should be one of the following values:\r\n",
        "setosa,versicolor or virginica.\r\n",
        "–All measured numerical properties of an iris should be positive.\r\n",
        "–The petal length of an iris is at least 2 times its petal width.\r\n",
        "–The sepal length of an iris cannot exceed 30cm.\r\n",
        "–The sepals of an iris are longer than its petals."
      ]
    },
    {
      "cell_type": "code",
      "metadata": {
        "id": "q8emgVfCGeW2",
        "colab": {
          "base_uri": "https://localhost:8080/"
        },
        "outputId": "504a0071-73b6-4f1f-cb95-bd9f6b7a0813"
      },
      "source": [
        "%cd /content/gdrive/MyDrive\r\n",
        "import rules as rs"
      ],
      "execution_count": 73,
      "outputs": [
        {
          "output_type": "stream",
          "text": [
            "/content/gdrive/MyDrive\n"
          ],
          "name": "stdout"
        }
      ]
    },
    {
      "cell_type": "markdown",
      "metadata": {
        "id": "i36PtRQPGFri"
      },
      "source": [
        "iv) Determine how often each rule is broken(violated Edits)."
      ]
    },
    {
      "cell_type": "code",
      "metadata": {
        "id": "dBqoCdZLGQVk",
        "colab": {
          "base_uri": "https://localhost:8080/",
          "height": 0
        },
        "outputId": "4b6b439b-0cc1-4ef4-95ea-0fd3d0fc3f95"
      },
      "source": [
        "data=pd.read_csv('/content/gdrive/MyDrive/dirty_iris.csv')\r\n",
        "data.dropna(inplace=True)\r\n",
        "result=rs.rules(data)\r\n",
        "result=pd.DataFrame(result)\r\n",
        "print(\"Number of voilations by iris:\")\r\n",
        "print(len(result)-sum(result))"
      ],
      "execution_count": 64,
      "outputs": [
        {
          "output_type": "stream",
          "text": [
            "Number of voilations by iris:\n",
            "-7161\n"
          ],
          "name": "stdout"
        }
      ]
    },
    {
      "cell_type": "markdown",
      "metadata": {
        "id": "qr3ugYX1GTPQ"
      },
      "source": [
        "Also summarize and plot the result."
      ]
    },
    {
      "cell_type": "code",
      "metadata": {
        "id": "AcT3V1rMGU-N",
        "colab": {
          "base_uri": "https://localhost:8080/",
          "height": 0
        },
        "outputId": "56075b61-ab14-4b3c-9fe5-65b836b33847"
      },
      "source": [
        "print(\"Summmary:\")\r\n",
        "print(result.describe())"
      ],
      "execution_count": 65,
      "outputs": [
        {
          "output_type": "stream",
          "text": [
            "Summmary:\n",
            "         0     1     3     4     7     8    ...   142   143   144   145   146   147\n",
            "count      5     5     5     5     5     5  ...     5     5     5     5     5     5\n",
            "unique     1     1     1     1     1     1  ...     1     1     1     1     1     1\n",
            "top     True  True  True  True  True  True  ...  True  True  True  True  True  True\n",
            "freq       5     5     5     5     5     5  ...     5     5     5     5     5     5\n",
            "\n",
            "[4 rows x 96 columns]\n"
          ],
          "name": "stdout"
        }
      ]
    },
    {
      "cell_type": "code",
      "metadata": {
        "id": "U35fRHCHGXa4",
        "colab": {
          "base_uri": "https://localhost:8080/",
          "height": 309
        },
        "outputId": "1ce78b78-3e8e-457e-9fec-665eb14d3850"
      },
      "source": [
        "import matplotlib.pyplot as plt\r\n",
        "result.transpose().head().astype(int).plot(kind='bar')\r\n",
        "plt.title(\"Visualization\")\r\n",
        "plt.xlabel('Rules')\r\n",
        "plt.ylabel('True/False')\r\n",
        "# plt.figure(figsize = [20, 100])"
      ],
      "execution_count": 70,
      "outputs": [
        {
          "output_type": "execute_result",
          "data": {
            "text/plain": [
              "Text(0, 0.5, 'True/False')"
            ]
          },
          "metadata": {
            "tags": []
          },
          "execution_count": 70
        },
        {
          "output_type": "display_data",
          "data": {
            "image/png": "[encoded data removed]",
            "text/plain": [
              "<Figure size 432x288 with 1 Axes>"
            ]
          },
          "metadata": {
            "tags": [],
            "needs_background": "light"
          }
        }
      ]
    },
    {
      "cell_type": "markdown",
      "metadata": {
        "id": "6S_WyNZUGZMS"
      },
      "source": [
        "v) Find outliers in sepal length using boxplot and boxplot.stats"
      ]
    },
    {
      "cell_type": "code",
      "metadata": {
        "id": "OezYa7lKGbAJ",
        "colab": {
          "base_uri": "https://localhost:8080/",
          "height": 399
        },
        "outputId": "e8a5f21b-03c8-4f71-d3d8-14a0dd280543"
      },
      "source": [
        "import matplotlib.pyplot as plt\r\n",
        "plt.boxplot(data['Sepal.Length'],vert=False)"
      ],
      "execution_count": 71,
      "outputs": [
        {
          "output_type": "execute_result",
          "data": {
            "text/plain": [
              "{'boxes': [<matplotlib.lines.Line2D at 0x7fd3705472d0>],\n",
              " 'caps': [<matplotlib.lines.Line2D at 0x7fd37054d310>,\n",
              "  <matplotlib.lines.Line2D at 0x7fd37054d850>],\n",
              " 'fliers': [<matplotlib.lines.Line2D at 0x7fd370555350>],\n",
              " 'means': [],\n",
              " 'medians': [<matplotlib.lines.Line2D at 0x7fd37054ddd0>],\n",
              " 'whiskers': [<matplotlib.lines.Line2D at 0x7fd370547850>,\n",
              "  <matplotlib.lines.Line2D at 0x7fd370547d90>]}"
            ]
          },
          "metadata": {
            "tags": []
          },
          "execution_count": 71
        },
        {
          "output_type": "display_data",
          "data": {
            "image/png": "[encoded data removed]",
            "text/plain": [
              "<Figure size 432x288 with 1 Axes>"
            ]
          },
          "metadata": {
            "tags": [],
            "needs_background": "light"
          }
        }
      ]
    }
  ]
}
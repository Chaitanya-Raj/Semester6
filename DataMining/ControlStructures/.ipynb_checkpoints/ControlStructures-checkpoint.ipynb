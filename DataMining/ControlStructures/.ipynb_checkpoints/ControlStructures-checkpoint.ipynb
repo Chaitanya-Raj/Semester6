{
 "cells": [
  {
   "cell_type": "markdown",
   "metadata": {
    "id": "kWo77f21KyyN"
   },
   "source": [
    "1. Sum of digits of a number"
   ]
  },
  {
   "cell_type": "code",
   "execution_count": 10,
   "metadata": {
    "colab": {
     "base_uri": "https://localhost:8080/"
    },
    "id": "uUOTxdxNCJvN",
    "outputId": "5c66bc69-ee6e-433d-85a4-1d50949ec2b6"
   },
   "outputs": [
    {
     "name": "stdout",
     "output_type": "stream",
     "text": [
      "Enter Number : 55\n",
      "10\n"
     ]
    }
   ],
   "source": [
    "def sumofdigits(n):\n",
    "    sum = 0\n",
    "    while n != 0:\n",
    "        sum += n % 10\n",
    "        n = n // 10\n",
    "    print(int(sum))\n",
    "\n",
    "\n",
    "def startingPoint():\n",
    "    val = int(input(\"Enter Number : \"))\n",
    "    sumofdigits(val)\n",
    "\n",
    "\n",
    "if __name__ == \"__main__\":\n",
    "    startingPoint()\n"
   ]
  },
  {
   "cell_type": "markdown",
   "metadata": {
    "id": "m-TUyjd0Krc6"
   },
   "source": [
    "2. Print the following patterns"
   ]
  },
  {
   "cell_type": "markdown",
   "metadata": {
    "id": "Q7ZeEw5rK1eM"
   },
   "source": [
    "A."
   ]
  },
  {
   "cell_type": "code",
   "execution_count": 11,
   "metadata": {
    "colab": {
     "base_uri": "https://localhost:8080/"
    },
    "id": "q2ZTxdeuKg5Z",
    "outputId": "4c1784a0-c254-4abe-f361-0ffd5e0dc2fb"
   },
   "outputs": [
    {
     "name": "stdout",
     "output_type": "stream",
     "text": [
      "Enter Number : 5\n",
      "1 2 3 4 5 \n",
      "1 2 3 4 \n",
      "1 2 3 \n",
      "1 2 \n",
      "1 \n"
     ]
    }
   ],
   "source": [
    "def pattern(n):\n",
    "    for i in range(n, 0, -1):\n",
    "        for j in range(1, i + 1):\n",
    "            print(j, end=\" \")\n",
    "        print()\n",
    "\n",
    "\n",
    "def startingPoint():\n",
    "    val = int(input(\"Enter Number : \"))\n",
    "    pattern(val)\n",
    "\n",
    "\n",
    "if __name__ == \"__main__\":\n",
    "    startingPoint()\n"
   ]
  },
  {
   "cell_type": "markdown",
   "metadata": {
    "id": "180AKjuDK7sn"
   },
   "source": [
    "B."
   ]
  },
  {
   "cell_type": "code",
   "execution_count": 12,
   "metadata": {
    "colab": {
     "base_uri": "https://localhost:8080/"
    },
    "id": "4gqrV1wEK9dn",
    "outputId": "759d1904-4a61-433a-a3cc-b4fcd4bec6b3"
   },
   "outputs": [
    {
     "name": "stdout",
     "output_type": "stream",
     "text": [
      "Enter Number : 5\n",
      "5 \n",
      "5 4 \n",
      "5 4 3 \n",
      "5 4 3 2 \n",
      "5 4 3 2 1 \n"
     ]
    }
   ],
   "source": [
    "def pattern(n):\n",
    "    for i in range(0, n):\n",
    "        for j in range(0, i + 1):\n",
    "            print(n - j, end=\" \")\n",
    "        print()\n",
    "\n",
    "\n",
    "def startingPoint():\n",
    "    val = int(input(\"Enter Number : \"))\n",
    "    pattern(val)\n",
    "\n",
    "\n",
    "if __name__ == \"__main__\":\n",
    "    startingPoint()\n"
   ]
  },
  {
   "cell_type": "markdown",
   "metadata": {
    "id": "pLNKgiuzLJAC"
   },
   "source": [
    "C."
   ]
  },
  {
   "cell_type": "code",
   "execution_count": 13,
   "metadata": {
    "colab": {
     "base_uri": "https://localhost:8080/"
    },
    "id": "TEmLfeOrLJrZ",
    "outputId": "183ad9db-e619-45a5-ba28-c0f57b98dfd0"
   },
   "outputs": [
    {
     "name": "stdout",
     "output_type": "stream",
     "text": [
      "Enter Number : 3\n",
      "    1 \n",
      "  2 1 2 \n",
      "3 2 1 2 3 \n"
     ]
    }
   ],
   "source": [
    "def pattern(n):\n",
    "    for i in range(1, n + 1):\n",
    "        for j in range(n - i, 0, -1):\n",
    "            print(\" \", end=\" \")\n",
    "        for j in range(i, 0, -1):\n",
    "            print(j, end=\" \")\n",
    "        for j in range(2, i + 1):\n",
    "            print(j, end=\" \")\n",
    "        print()\n",
    "\n",
    "\n",
    "def startingPoint():\n",
    "    val = int(input(\"Enter Number : \"))\n",
    "    pattern(val)\n",
    "\n",
    "\n",
    "if __name__ == \"__main__\":\n",
    "    startingPoint()\n"
   ]
  }
 ],
 "metadata": {
  "colab": {
   "collapsed_sections": [],
   "name": "ControlStructures.ipynb",
   "provenance": []
  },
  "kernelspec": {
   "display_name": "Python 3",
   "language": "python",
   "name": "python3"
  },
  "language_info": {
   "codemirror_mode": {
    "name": "ipython",
    "version": 3
   },
   "file_extension": ".py",
   "mimetype": "text/x-python",
   "name": "python",
   "nbconvert_exporter": "python",
   "pygments_lexer": "ipython3",
   "version": "3.7.8"
  }
 },
 "nbformat": 4,
 "nbformat_minor": 1
}

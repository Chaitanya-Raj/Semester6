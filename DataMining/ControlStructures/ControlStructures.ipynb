{
  "nbformat": 4,
  "nbformat_minor": 0,
  "metadata": {
    "colab": {
      "name": "ControlStructures.ipynb",
      "provenance": [],
      "collapsed_sections": []
    },
    "kernelspec": {
      "name": "python3",
      "display_name": "Python 3"
    }
  },
  "cells": [
    {
      "cell_type": "markdown",
      "metadata": {
        "id": "kWo77f21KyyN"
      },
      "source": [
        "1. Sum of digits of a number"
      ]
    },
    {
      "cell_type": "code",
      "metadata": {
        "id": "uUOTxdxNCJvN"
      },
      "source": [
        "def sumofdigits(n):\r\n",
        "    sum = 0\r\n",
        "    while n != 0:\r\n",
        "        sum += n % 10\r\n",
        "        n = n // 10\r\n",
        "    print(sum)\r\n",
        "\r\n",
        "\r\n",
        "def startingPoint():\r\n",
        "    val = int(input(\"Enter Number : \"))\r\n",
        "    sumofdigits(val)\r\n",
        "\r\n",
        "\r\n",
        "if __name__ == \"__main__\":\r\n",
        "    startingPoint()\r\n"
      ],
      "execution_count": null,
      "outputs": []
    },
    {
      "cell_type": "markdown",
      "metadata": {
        "id": "m-TUyjd0Krc6"
      },
      "source": [
        "2. Print the following patterns"
      ]
    },
    {
      "cell_type": "markdown",
      "metadata": {
        "id": "Q7ZeEw5rK1eM"
      },
      "source": [
        "A."
      ]
    },
    {
      "cell_type": "code",
      "metadata": {
        "id": "q2ZTxdeuKg5Z"
      },
      "source": [
        "def pattern(n):\r\n",
        "    for i in range(n, 0, -1):\r\n",
        "        for j in range(1, i + 1):\r\n",
        "            print(j, end=\" \")\r\n",
        "        print()\r\n",
        "\r\n",
        "\r\n",
        "def startingPoint():\r\n",
        "    val = int(input(\"Enter Number : \"))\r\n",
        "    pattern(val)\r\n",
        "\r\n",
        "\r\n",
        "if __name__ == \"__main__\":\r\n",
        "    startingPoint()\r\n"
      ],
      "execution_count": null,
      "outputs": []
    },
    {
      "cell_type": "markdown",
      "metadata": {
        "id": "180AKjuDK7sn"
      },
      "source": [
        "B."
      ]
    },
    {
      "cell_type": "code",
      "metadata": {
        "id": "4gqrV1wEK9dn"
      },
      "source": [
        "def pattern(n):\r\n",
        "    for i in range(0, n):\r\n",
        "        for j in range(0, i + 1):\r\n",
        "            print(n - j, end=\" \")\r\n",
        "        print()\r\n",
        "\r\n",
        "\r\n",
        "def startingPoint():\r\n",
        "    val = int(input(\"Enter Number : \"))\r\n",
        "    pattern(val)\r\n",
        "\r\n",
        "\r\n",
        "if __name__ == \"__main__\":\r\n",
        "    startingPoint()\r\n"
      ],
      "execution_count": null,
      "outputs": []
    },
    {
      "cell_type": "markdown",
      "metadata": {
        "id": "pLNKgiuzLJAC"
      },
      "source": [
        "C."
      ]
    },
    {
      "cell_type": "code",
      "metadata": {
        "id": "TEmLfeOrLJrZ"
      },
      "source": [
        "def pattern(n):\r\n",
        "    for i in range(1, n + 1):\r\n",
        "        for j in range(n - i, 0, -1):\r\n",
        "            print(\" \", end=\" \")\r\n",
        "        for j in range(i, 0, -1):\r\n",
        "            print(j, end=\" \")\r\n",
        "        for j in range(2, i + 1):\r\n",
        "            print(j, end=\" \")\r\n",
        "        print()\r\n",
        "\r\n",
        "\r\n",
        "def startingPoint():\r\n",
        "    val = int(input(\"Enter Number : \"))\r\n",
        "    pattern(val)\r\n",
        "\r\n",
        "\r\n",
        "if __name__ == \"__main__\":\r\n",
        "    startingPoint()\r\n"
      ],
      "execution_count": null,
      "outputs": []
    }
  ]
}
{
  "nbformat": 4,
  "nbformat_minor": 0,
  "metadata": {
    "colab": {
      "name": "NumpyExercises.ipynb",
      "provenance": [],
      "collapsed_sections": []
    },
    "kernelspec": {
      "name": "python3",
      "display_name": "Python 3"
    }
  },
  "cells": [
    {
      "cell_type": "markdown",
      "metadata": {
        "id": "TKkCMMhF9dIh"
      },
      "source": [
        "1. Write a NumPy program to convert a given array into a list and then convert it into a numpy array again."
      ]
    },
    {
      "cell_type": "code",
      "metadata": {
        "id": "KSjzorKS-KSZ",
        "colab": {
          "base_uri": "https://localhost:8080/"
        },
        "outputId": "abc943f0-d72c-42b8-c094-25f84e47a517"
      },
      "source": [
        "import numpy as np\r\n",
        "A=np.arange(0,10)\r\n",
        "print(type(A))\r\n",
        "A=A.tolist()\r\n",
        "print(type(A))\r\n",
        "A=np.array(A)\r\n",
        "print(type(A))"
      ],
      "execution_count": 1,
      "outputs": [
        {
          "output_type": "stream",
          "text": [
            "<class 'numpy.ndarray'>\n",
            "<class 'list'>\n",
            "<class 'numpy.ndarray'>\n"
          ],
          "name": "stdout"
        }
      ]
    },
    {
      "cell_type": "markdown",
      "metadata": {
        "id": "fJLl0A5f-RM2"
      },
      "source": [
        "2. Create a 5X2 integer array from a range between 100 to 200 such that the difference between each element is 10."
      ]
    },
    {
      "cell_type": "code",
      "metadata": {
        "id": "tEbZy8SQ-SF7",
        "colab": {
          "base_uri": "https://localhost:8080/"
        },
        "outputId": "0a3cdfe5-ce3e-462a-a1b0-cf7edd6c6eba"
      },
      "source": [
        "import numpy as np\r\n",
        "A=np.arange(100,200,10).reshape(5,2)\r\n",
        "print(A)\r\n"
      ],
      "execution_count": 2,
      "outputs": [
        {
          "output_type": "stream",
          "text": [
            "[[100 110]\n",
            " [120 130]\n",
            " [140 150]\n",
            " [160 170]\n",
            " [180 190]]\n"
          ],
          "name": "stdout"
        }
      ]
    },
    {
      "cell_type": "markdown",
      "metadata": {
        "id": "O1BbdVt1-WuA"
      },
      "source": [
        "3. Add the two 2D NumPy arrays and modify the  resulting array by calculating the square root of each element"
      ]
    },
    {
      "cell_type": "code",
      "metadata": {
        "id": "m7v0XfR0-cDN",
        "colab": {
          "base_uri": "https://localhost:8080/"
        },
        "outputId": "862cc441-e6b1-473c-d2ce-3e3ff9a56c17"
      },
      "source": [
        "import numpy as np\r\n",
        "A=np.arange(10,20).reshape(5,2)\r\n",
        "B=np.arange(15,25).reshape(5,2)\r\n",
        "C=A+B\r\n",
        "C=np.sqrt(C)\r\n",
        "print(C)\r\n"
      ],
      "execution_count": 3,
      "outputs": [
        {
          "output_type": "stream",
          "text": [
            "[[5.         5.19615242]\n",
            " [5.38516481 5.56776436]\n",
            " [5.74456265 5.91607978]\n",
            " [6.08276253 6.244998  ]\n",
            " [6.40312424 6.55743852]]\n"
          ],
          "name": "stdout"
        }
      ]
    },
    {
      "cell_type": "markdown",
      "metadata": {
        "id": "GIhr3f2p-fnE"
      },
      "source": [
        "4. Create an 8X3 integer array from a range between 10 to 34 such that the difference between each element is 1 and then Split the array into four equal-sized sub-arrays."
      ]
    },
    {
      "cell_type": "code",
      "metadata": {
        "id": "FIKCgvaE-h49",
        "colab": {
          "base_uri": "https://localhost:8080/"
        },
        "outputId": "d1971df3-d1ea-47d0-b654-3dd9cea79b0a"
      },
      "source": [
        "import numpy as np\r\n",
        "A=np.arange(10,34).reshape(8,3)\r\n",
        "A=np.split(A,4)\r\n",
        "print(A)"
      ],
      "execution_count": 4,
      "outputs": [
        {
          "output_type": "stream",
          "text": [
            "[array([[10, 11, 12],\n",
            "       [13, 14, 15]]), array([[16, 17, 18],\n",
            "       [19, 20, 21]]), array([[22, 23, 24],\n",
            "       [25, 26, 27]]), array([[28, 29, 30],\n",
            "       [31, 32, 33]])]\n"
          ],
          "name": "stdout"
        }
      ]
    },
    {
      "cell_type": "markdown",
      "metadata": {
        "id": "zrdqAYql-oIu"
      },
      "source": [
        "5. Consider the following array:\r\n",
        "sampleArray = numpy.array([[34,43,73],[82,22,12],[53,94,66]])"
      ]
    },
    {
      "cell_type": "markdown",
      "metadata": {
        "id": "seWWhLuz-ozE"
      },
      "source": [
        " i. Sort above array by second ro"
      ]
    },
    {
      "cell_type": "code",
      "metadata": {
        "id": "J281Eh4U-qoP",
        "colab": {
          "base_uri": "https://localhost:8080/"
        },
        "outputId": "e7dcdc62-fdf0-4d86-b5ec-f914b63d9b4b"
      },
      "source": [
        "import numpy as np\r\n",
        "sampleArray = np.array([[34,43,73],[82,22,12],[53,94,66]])\r\n",
        "print(sampleArray)\r\n",
        "sorted_array = sampleArray [ :, sampleArray[1].argsort()]\r\n",
        "print(sorted_array)\r\n"
      ],
      "execution_count": 5,
      "outputs": [
        {
          "output_type": "stream",
          "text": [
            "[[34 43 73]\n",
            " [82 22 12]\n",
            " [53 94 66]]\n",
            "[[73 43 34]\n",
            " [12 22 82]\n",
            " [66 94 53]]\n"
          ],
          "name": "stdout"
        }
      ]
    },
    {
      "cell_type": "markdown",
      "metadata": {
        "id": "pzsO-L7g-t4N"
      },
      "source": [
        "ii. Sort above array by second column"
      ]
    },
    {
      "cell_type": "code",
      "metadata": {
        "id": "mAUN0YsP-veQ",
        "colab": {
          "base_uri": "https://localhost:8080/"
        },
        "outputId": "02c02c1a-af21-4699-b1dc-0d2b03fb5b9a"
      },
      "source": [
        "import numpy as np\r\n",
        "sampleArray = np.array([[34,43,73],[82,22,12],[53,94,66]])\r\n",
        "print(sampleArray)\r\n",
        "sorted_array = sampleArray[np.argsort(sampleArray[:, 1])]\r\n",
        "print(sorted_array)\r\n"
      ],
      "execution_count": 6,
      "outputs": [
        {
          "output_type": "stream",
          "text": [
            "[[34 43 73]\n",
            " [82 22 12]\n",
            " [53 94 66]]\n",
            "[[82 22 12]\n",
            " [34 43 73]\n",
            " [53 94 66]]\n"
          ],
          "name": "stdout"
        }
      ]
    },
    {
      "cell_type": "markdown",
      "metadata": {
        "id": "5VrWjRH_-xXf"
      },
      "source": [
        " iii. Print max from axis 0 and min from axis "
      ]
    },
    {
      "cell_type": "code",
      "metadata": {
        "id": "OWdGZ7JH-zEN",
        "colab": {
          "base_uri": "https://localhost:8080/"
        },
        "outputId": "8a5d570c-9b7e-4cc1-acbc-689acdbcb225"
      },
      "source": [
        "import numpy as np\r\n",
        "sampleArray = np.array([[34,43,73],[82,22,12],[53,94,66]])\r\n",
        "print(sampleArray)\r\n",
        "print(sampleArray.max(axis=0))\r\n",
        "print(sampleArray.min(axis=1))\r\n"
      ],
      "execution_count": 7,
      "outputs": [
        {
          "output_type": "stream",
          "text": [
            "[[34 43 73]\n",
            " [82 22 12]\n",
            " [53 94 66]]\n",
            "[82 94 73]\n",
            "[34 12 53]\n"
          ],
          "name": "stdout"
        }
      ]
    },
    {
      "cell_type": "markdown",
      "metadata": {
        "id": "8ViF5ys_-6Ng"
      },
      "source": [
        " iv. Delete col 2 and insert new Column numpy.array([[10,10,10]]) in its plac"
      ]
    },
    {
      "cell_type": "code",
      "metadata": {
        "id": "DL4nLKX_-6xE",
        "colab": {
          "base_uri": "https://localhost:8080/"
        },
        "outputId": "0088fb4f-eb86-4454-f90f-028fc0dff35f"
      },
      "source": [
        "import numpy as np\r\n",
        "sampleArray = np.array([[34,43,73],[82,22,12],[53,94,66]])\r\n",
        "sampleArray=np.delete(sampleArray,obj=1,axis=1)\r\n",
        "sampleArray = np.insert(sampleArray, 1, [[10, 10, 10]],axis=1)\r\n",
        "print(sampleArray)\r\n"
      ],
      "execution_count": 8,
      "outputs": [
        {
          "output_type": "stream",
          "text": [
            "[[34 10 73]\n",
            " [82 10 12]\n",
            " [53 10 66]]\n"
          ],
          "name": "stdout"
        }
      ]
    },
    {
      "cell_type": "markdown",
      "metadata": {
        "id": "7lt_N1cu--9N"
      },
      "source": [
        "6. Remove all the elemnets from an array that exist in another array?"
      ]
    },
    {
      "cell_type": "code",
      "metadata": {
        "id": "QygWoILt-_kg",
        "colab": {
          "base_uri": "https://localhost:8080/"
        },
        "outputId": "94a677ce-98c3-4b28-8f50-831c18d5b129"
      },
      "source": [
        "import numpy as np\r\n",
        "A=np.arange(10,20)\r\n",
        "B=np.arange(1,15)\r\n",
        "np.setdiff1d(A,B)\r\n",
        "print(A)\r\n"
      ],
      "execution_count": 9,
      "outputs": [
        {
          "output_type": "stream",
          "text": [
            "[10 11 12 13 14 15 16 17 18 19]\n"
          ],
          "name": "stdout"
        }
      ]
    },
    {
      "cell_type": "markdown",
      "metadata": {
        "id": "SyUWnCk3_CUI"
      },
      "source": [
        "7. Swap two columns in a 2d NumPy array."
      ]
    },
    {
      "cell_type": "code",
      "metadata": {
        "id": "U5kX1dcq_ERn",
        "colab": {
          "base_uri": "https://localhost:8080/"
        },
        "outputId": "21845b08-91df-4da4-f4cd-dfe66168ac47"
      },
      "source": [
        "import numpy as np\r\n",
        "sampleArray = np.array([[34,43,73],[82,22,12],[53,94,66]])\r\n",
        "sampleArray[:,[0, 1]] = sampleArray[:,[1, 0]]\r\n",
        "print(sampleArray)\r\n"
      ],
      "execution_count": 10,
      "outputs": [
        {
          "output_type": "stream",
          "text": [
            "[[43 34 73]\n",
            " [22 82 12]\n",
            " [94 53 66]]\n"
          ],
          "name": "stdout"
        }
      ]
    },
    {
      "cell_type": "markdown",
      "metadata": {
        "id": "K9nriHOv_IzH"
      },
      "source": [
        "8. Swap two rows in a 2d NumPy array."
      ]
    },
    {
      "cell_type": "code",
      "metadata": {
        "id": "5K0-ItwK_Jc5",
        "colab": {
          "base_uri": "https://localhost:8080/"
        },
        "outputId": "34232ff4-91f6-47be-bcaf-6f78b1306b8c"
      },
      "source": [
        "import numpy as np\r\n",
        "sampleArray = np.array([[34,43,73],[82,22,12],[53,94,66]])\r\n",
        "sampleArray[[0, 1],:] = sampleArray[[1, 0],:]\r\n",
        "print(sampleArray)\r\n"
      ],
      "execution_count": 11,
      "outputs": [
        {
          "output_type": "stream",
          "text": [
            "[[82 22 12]\n",
            " [34 43 73]\n",
            " [53 94 66]]\n"
          ],
          "name": "stdout"
        }
      ]
    },
    {
      "cell_type": "markdown",
      "metadata": {
        "id": "GZFOQ89G_MRf"
      },
      "source": [
        "9. Reverse the order of rows of a 2D array"
      ]
    },
    {
      "cell_type": "code",
      "metadata": {
        "id": "L6Bc4qV0_OXk",
        "colab": {
          "base_uri": "https://localhost:8080/"
        },
        "outputId": "f7541160-0c85-4825-bc51-f405bb116ae8"
      },
      "source": [
        "import numpy as np\r\n",
        "sampleArray = np.array([[34,43,73],[82,22,12],[53,94,66]])\r\n",
        "sampleArray[:] = sampleArray[::-1]\r\n",
        "print(sampleArray)"
      ],
      "execution_count": 12,
      "outputs": [
        {
          "output_type": "stream",
          "text": [
            "[[53 94 66]\n",
            " [82 22 12]\n",
            " [34 43 73]]\n"
          ],
          "name": "stdout"
        }
      ]
    },
    {
      "cell_type": "markdown",
      "metadata": {
        "id": "ZzqFJfGY_Qwg"
      },
      "source": [
        "10. Reverse the order of columns of a 2D array"
      ]
    },
    {
      "cell_type": "code",
      "metadata": {
        "id": "mLxqgZTp_SfW",
        "colab": {
          "base_uri": "https://localhost:8080/"
        },
        "outputId": "77fa73bb-1af5-4e59-c09a-628c8b4ab846"
      },
      "source": [
        "import numpy as np\r\n",
        "sampleArray = np.array([[34,43,73],[82,22,12],[53,94,66]])\r\n",
        "sampleArray[:,:] = sampleArray[:,::-1]\r\n",
        "print(sampleArray)"
      ],
      "execution_count": 13,
      "outputs": [
        {
          "output_type": "stream",
          "text": [
            "[[73 43 34]\n",
            " [12 22 82]\n",
            " [66 94 53]]\n"
          ],
          "name": "stdout"
        }
      ]
    },
    {
      "cell_type": "markdown",
      "metadata": {
        "id": "1sxv88Du_Ucz"
      },
      "source": [
        "11. Retrieve common items between two python NumPy arrays?"
      ]
    },
    {
      "cell_type": "code",
      "metadata": {
        "id": "H8DYRUP4_WYH",
        "colab": {
          "base_uri": "https://localhost:8080/"
        },
        "outputId": "97a3e2e6-085c-4edc-c3b7-eac1fcd8a1f3"
      },
      "source": [
        "import numpy as np\r\n",
        "A=np.arange(10,20)\r\n",
        "B=np.arange(1,15)\r\n",
        "print(np.intersect1d(A, B))"
      ],
      "execution_count": 14,
      "outputs": [
        {
          "output_type": "stream",
          "text": [
            "[10 11 12 13 14]\n"
          ],
          "name": "stdout"
        }
      ]
    },
    {
      "cell_type": "markdown",
      "metadata": {
        "id": "Yb0REXll_YXl"
      },
      "source": [
        "12. Retrive indices where elements of two arrays match"
      ]
    },
    {
      "cell_type": "code",
      "metadata": {
        "id": "cjmlQ_jx_aFw",
        "colab": {
          "base_uri": "https://localhost:8080/"
        },
        "outputId": "aef8babc-b90e-4aa0-ff0c-526ba3364c5d"
      },
      "source": [
        "import numpy as np\r\n",
        "A=np.array([1,2,3,4,5,6,7,8])\r\n",
        "B=np.array([1,1,2,3,5,6,9,8])\r\n",
        "print(np.where(A == B))\r\n"
      ],
      "execution_count": 15,
      "outputs": [
        {
          "output_type": "stream",
          "text": [
            "(array([0, 4, 5, 7]),)\n"
          ],
          "name": "stdout"
        }
      ]
    },
    {
      "cell_type": "markdown",
      "metadata": {
        "id": "hIUH8KOQ_cRn"
      },
      "source": [
        "13. Get all items between 5 and 10 from an array."
      ]
    },
    {
      "cell_type": "code",
      "metadata": {
        "id": "khyZRM56_eBT",
        "colab": {
          "base_uri": "https://localhost:8080/"
        },
        "outputId": "97cea5dc-ca1c-4167-cf96-28a0e632ae17"
      },
      "source": [
        "import numpy as np\r\n",
        "A=np.arange(1,20)\r\n",
        "print(np.where((A>5) & (A<10)))"
      ],
      "execution_count": 17,
      "outputs": [
        {
          "output_type": "stream",
          "text": [
            "(array([5, 6, 7, 8]),)\n"
          ],
          "name": "stdout"
        }
      ]
    },
    {
      "cell_type": "markdown",
      "metadata": {
        "id": "7WkQm5i6_gAL"
      },
      "source": [
        "14. For a 1D array with numeric values, find minimum, maximum, mean, median, standard deviation, 5th and 95th percentile, unique values, count of unique values, and the most frequent value."
      ]
    },
    {
      "cell_type": "code",
      "metadata": {
        "id": "BbqpuiDI_hvc",
        "colab": {
          "base_uri": "https://localhost:8080/"
        },
        "outputId": "af72b3cd-632f-4d74-a3a2-4338f23070db"
      },
      "source": [
        "import numpy as np\r\n",
        "import statistics\r\n",
        "A=np.arange(10,20)\r\n",
        "A = np.concatenate((A, np.arange(1,15),[10]))\r\n",
        "A=np.sort(A)\r\n",
        "print(np.amin(A))\r\n",
        "print(np.amax(A))\r\n",
        "print(np.mean(A))\r\n",
        "print(np.median(A))\r\n",
        "print(np.std(A))\r\n",
        "print(np.percentile(A,5))\r\n",
        "print(np.percentile(A,95))\r\n",
        "print(np.unique(A))\r\n",
        "print(len(np.unique(A)))\r\n",
        "print(statistics.mode(A))\r\n"
      ],
      "execution_count": 16,
      "outputs": [
        {
          "output_type": "stream",
          "text": [
            "1\n",
            "19\n",
            "10.4\n",
            "11.0\n",
            "4.882622246293481\n",
            "2.2\n",
            "17.799999999999997\n",
            "[ 1  2  3  4  5  6  7  8  9 10 11 12 13 14 15 16 17 18 19]\n",
            "19\n",
            "10\n"
          ],
          "name": "stdout"
        }
      ]
    },
    {
      "cell_type": "markdown",
      "metadata": {
        "id": "FypbzcY7_j4c"
      },
      "source": [
        "15. Write a NumPy program to create a 10x10 matrix, in which all the elements on the borders should be equal to 1, and rest others should be 0."
      ]
    },
    {
      "cell_type": "code",
      "metadata": {
        "id": "PgEVDoEb_liy",
        "colab": {
          "base_uri": "https://localhost:8080/"
        },
        "outputId": "b363ff4d-977e-4831-ae07-2688bfbb59ca"
      },
      "source": [
        "import numpy as np\r\n",
        "A = np.ones((10, 10))\r\n",
        "A[1:-1, 1:-1] = 0\r\n",
        "print(A)\r\n"
      ],
      "execution_count": 18,
      "outputs": [
        {
          "output_type": "stream",
          "text": [
            "[[1. 1. 1. 1. 1. 1. 1. 1. 1. 1.]\n",
            " [1. 0. 0. 0. 0. 0. 0. 0. 0. 1.]\n",
            " [1. 0. 0. 0. 0. 0. 0. 0. 0. 1.]\n",
            " [1. 0. 0. 0. 0. 0. 0. 0. 0. 1.]\n",
            " [1. 0. 0. 0. 0. 0. 0. 0. 0. 1.]\n",
            " [1. 0. 0. 0. 0. 0. 0. 0. 0. 1.]\n",
            " [1. 0. 0. 0. 0. 0. 0. 0. 0. 1.]\n",
            " [1. 0. 0. 0. 0. 0. 0. 0. 0. 1.]\n",
            " [1. 0. 0. 0. 0. 0. 0. 0. 0. 1.]\n",
            " [1. 1. 1. 1. 1. 1. 1. 1. 1. 1.]]\n"
          ],
          "name": "stdout"
        }
      ]
    },
    {
      "cell_type": "markdown",
      "metadata": {
        "id": "ALb_ZDfL_n1B"
      },
      "source": [
        "16. Write a NumPy program to create a 5x5 zero matrix with elements on the main diagonal equal to 1, 2, 3, 4, 5"
      ]
    },
    {
      "cell_type": "code",
      "metadata": {
        "id": "HESZao9-_p7s",
        "colab": {
          "base_uri": "https://localhost:8080/"
        },
        "outputId": "3504aadc-abf5-4dc0-eed8-b03bd2f83c53"
      },
      "source": [
        "import numpy as np\r\n",
        "A=np.diagflat([1,2,3,4,5])\r\n",
        "print(A)\r\n"
      ],
      "execution_count": 19,
      "outputs": [
        {
          "output_type": "stream",
          "text": [
            "[[1 0 0 0 0]\n",
            " [0 2 0 0 0]\n",
            " [0 0 3 0 0]\n",
            " [0 0 0 4 0]\n",
            " [0 0 0 0 5]]\n"
          ],
          "name": "stdout"
        }
      ]
    },
    {
      "cell_type": "markdown",
      "metadata": {
        "id": "RERsyy0X_sE8"
      },
      "source": [
        "17. Count the number of elements in a numpy array which are greater than 10. Further, multiply all such elements with value 10. \r\n"
      ]
    },
    {
      "cell_type": "code",
      "metadata": {
        "id": "uROA9510_trs",
        "colab": {
          "base_uri": "https://localhost:8080/"
        },
        "outputId": "904b6765-5a09-4068-e2b4-102afe1f7438"
      },
      "source": [
        "import numpy as np\r\n",
        "A=np.arange(10,20)\r\n",
        "A = np.concatenate((A, np.arange(1,15),[10]))\r\n",
        "print(np.count_nonzero(A>10))\r\n",
        "A[np.nonzero(A>10)]=A[np.nonzero(A>10)]*10\r\n",
        "print(A)"
      ],
      "execution_count": 20,
      "outputs": [
        {
          "output_type": "stream",
          "text": [
            "13\n",
            "[ 10 110 120 130 140 150 160 170 180 190   1   2   3   4   5   6   7   8\n",
            "   9  10 110 120 130 140  10]\n"
          ],
          "name": "stdout"
        }
      ]
    }
  ]
}
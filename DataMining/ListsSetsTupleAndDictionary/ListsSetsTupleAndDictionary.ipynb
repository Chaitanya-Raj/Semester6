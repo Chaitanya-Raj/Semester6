{
  "nbformat": 4,
  "nbformat_minor": 0,
  "metadata": {
    "colab": {
      "name": "ListsSetsTupleAndDictionary.ipynb",
      "provenance": [],
      "collapsed_sections": []
    },
    "kernelspec": {
      "name": "python3",
      "display_name": "Python 3"
    }
  },
  "cells": [
    {
      "cell_type": "markdown",
      "metadata": {
        "id": "8cVX9m_upyKE"
      },
      "source": [
        "1. Consider a 2D list storing student's name along with their marks. Use list comprehension to create another list comprising names of students with  marks greater than 85."
      ]
    },
    {
      "cell_type": "code",
      "metadata": {
        "id": "KyS8fmq9puSC"
      },
      "source": [
        "def filterList(arr):\r\n",
        "    return [x for x in arr if x[1] > 85]\r\n",
        "\r\n",
        "\r\n",
        "def startingPoint():\r\n",
        "    rows = int(input(\"Enter number of rows: \"))\r\n",
        "    arr = []\r\n",
        "    for _ in range(rows):\r\n",
        "        name = input(\"Enter name : \")\r\n",
        "        marks = int(input(\"Enter marks : \"))\r\n",
        "        arr.append([name, marks])\r\n",
        "    print(arr)\r\n",
        "    print(filterList(arr))\r\n",
        "\r\n",
        "\r\n",
        "if __name__ == \"__main__\":\r\n",
        "    startingPoint()"
      ],
      "execution_count": null,
      "outputs": []
    },
    {
      "cell_type": "markdown",
      "metadata": {
        "id": "PqI2l8-Sp33z"
      },
      "source": [
        "2. WAP that takes a list of marks as an input from the user and creates a dictionary storing marks and the corresponding frequency as key-value pairs."
      ]
    },
    {
      "cell_type": "code",
      "metadata": {
        "id": "mLmeugdup6EG"
      },
      "source": [
        "def frequency(marksList):\r\n",
        "    freq = {}\r\n",
        "    for mark in marksList:\r\n",
        "        if mark in freq:\r\n",
        "            freq[mark] += 1\r\n",
        "        else:\r\n",
        "            freq[mark] = 1\r\n",
        "    return freq\r\n",
        "\r\n",
        "\r\n",
        "def startingPoint():\r\n",
        "    marks = []\r\n",
        "    num = int(input(\"Enter size of list : \"))\r\n",
        "    for _ in range(0, num):\r\n",
        "        mark = int(input(\"Enter the marks : \"))\r\n",
        "        marks.append(mark)\r\n",
        "    print(frequency(marks))\r\n",
        "\r\n",
        "\r\n",
        "if __name__ == \"__main__\":\r\n",
        "    startingPoint()"
      ],
      "execution_count": null,
      "outputs": []
    },
    {
      "cell_type": "markdown",
      "metadata": {
        "id": "NIvcSlWBp6Yz"
      },
      "source": [
        "3. WAP that takes a list of names as an input from the user and creates a dictionary storing word-length as key-value pair for each word given in the list."
      ]
    },
    {
      "cell_type": "code",
      "metadata": {
        "id": "iJXqz8pQp9xC"
      },
      "source": [
        "def nameLength(namesList):\r\n",
        "    namesDict = {}\r\n",
        "    for name in namesList:\r\n",
        "        namesDict[name] = len(name)\r\n",
        "    return namesDict\r\n",
        "\r\n",
        "\r\n",
        "def startingPoint():\r\n",
        "    names = []\r\n",
        "    num = int(input(\"Enter size of list : \"))\r\n",
        "    for _ in range(0, num):\r\n",
        "        name = input(\"Enter the name : \")\r\n",
        "        names.append(name)\r\n",
        "    print(nameLength(names))\r\n",
        "\r\n",
        "\r\n",
        "if __name__ == \"__main__\":\r\n",
        "    startingPoint()"
      ],
      "execution_count": null,
      "outputs": []
    }
  ]
}
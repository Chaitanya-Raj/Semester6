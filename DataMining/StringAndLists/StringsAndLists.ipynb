{
  "nbformat": 4,
  "nbformat_minor": 0,
  "metadata": {
    "colab": {
      "name": "StringsAndLists.ipynb",
      "provenance": [],
      "collapsed_sections": []
    },
    "kernelspec": {
      "name": "python3",
      "display_name": "Python 3"
    }
  },
  "cells": [
    {
      "cell_type": "markdown",
      "metadata": {
        "id": "FFJ9yZqxZm8h"
      },
      "source": [
        "1. WAP that takes a sentence as an input and convert the text in sentence to pig latin."
      ]
    },
    {
      "cell_type": "code",
      "metadata": {
        "id": "m1kXkOSZLXjU"
      },
      "source": [
        "def pigLatin(val):\r\n",
        "    for i in val.split(\" \"):\r\n",
        "        if i[0] in [\"a\", \"e\", \"i\", \"o\", \"u\"]:\r\n",
        "            print(i + \"hay\", end=\" \")\r\n",
        "        else:\r\n",
        "            print(i[1 : len(i)] + i[0] + \"ay\", end=\" \")\r\n",
        "\r\n",
        "\r\n",
        "def startingPoint():\r\n",
        "    val = input(\"Enter String : \")\r\n",
        "    pigLatin(val)\r\n",
        "\r\n",
        "\r\n",
        "if __name__ == \"__main__\":\r\n",
        "    startingPoint()\r\n"
      ],
      "execution_count": null,
      "outputs": []
    },
    {
      "cell_type": "markdown",
      "metadata": {
        "id": "p85rAHk_Zw_J"
      },
      "source": [
        "2. WAP that takes a list as an input and returns another list without duplicate values."
      ]
    },
    {
      "cell_type": "code",
      "metadata": {
        "id": "QFbGy5N_Zxli"
      },
      "source": [
        "def removeDuplicates(oldList):\r\n",
        "    newList = []\r\n",
        "    for i in oldList:\r\n",
        "        if i not in newList:\r\n",
        "            newList.append(i)\r\n",
        "    return newList\r\n",
        "\r\n",
        "\r\n",
        "def startingPoint():\r\n",
        "    originalList = []\r\n",
        "    num = int(input(\"Enter number of elements : \"))\r\n",
        "    for i in range(0, num):\r\n",
        "        originalList.append(int(input(\"Element \" + str(i + 1) + \"  : \")))\r\n",
        "    print(\"Before : \", originalList)\r\n",
        "    print(\"After : \", removeDuplicates(originalList))\r\n",
        "\r\n",
        "\r\n",
        "if __name__ == \"__main__\":\r\n",
        "    startingPoint()\r\n",
        "    "
      ],
      "execution_count": null,
      "outputs": []
    },
    {
      "cell_type": "markdown",
      "metadata": {
        "id": "5Q3yt3_9Z8i8"
      },
      "source": [
        "3. WAP that takes a list as an input and returns the reversed list"
      ]
    },
    {
      "cell_type": "code",
      "metadata": {
        "id": "3QpzecS1Z_15"
      },
      "source": [
        "def startingPoint():\r\n",
        "    originalList = []\r\n",
        "    num = int(input(\"Enter number of elements : \"))\r\n",
        "    for i in range(0, num):\r\n",
        "        originalList.append(int(input(\"Element \" + str(i + 1) + \"  : \")))\r\n",
        "    print(\"Before : \", originalList)\r\n",
        "    originalList.reverse()\r\n",
        "    print(\"After : \", originalList)\r\n",
        "\r\n",
        "\r\n",
        "if __name__ == \"__main__\":\r\n",
        "    startingPoint()"
      ],
      "execution_count": null,
      "outputs": []
    }
  ]
}